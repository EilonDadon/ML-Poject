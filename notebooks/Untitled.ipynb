{
 "cells": [
  {
   "cell_type": "code",
   "execution_count": 16,
   "id": "26a3f636-cfc0-4d9d-bbe5-2354adf6469c",
   "metadata": {},
   "outputs": [],
   "source": [
    "import pandas as pd\n",
    "import numpy as np\n",
    "from statsmodels.tsa.holtwinters import Holt\n",
    "from sklearn.metrics import mean_absolute_error, mean_squared_error\n",
    "import matplotlib.pyplot as plt"
   ]
  },
  {
   "cell_type": "code",
   "execution_count": 17,
   "id": "27c3a428-512c-4d17-a337-2f7322688642",
   "metadata": {},
   "outputs": [
    {
     "ename": "KeyError",
     "evalue": "'מכירות'",
     "output_type": "error",
     "traceback": [
      "\u001b[1;31m---------------------------------------------------------------------------\u001b[0m",
      "\u001b[1;31mKeyError\u001b[0m                                  Traceback (most recent call last)",
      "File \u001b[1;32m~\\AppData\\Local\\Programs\\Python\\Python312\\Lib\\site-packages\\pandas\\core\\indexes\\base.py:3805\u001b[0m, in \u001b[0;36mIndex.get_loc\u001b[1;34m(self, key)\u001b[0m\n\u001b[0;32m   3804\u001b[0m \u001b[38;5;28;01mtry\u001b[39;00m:\n\u001b[1;32m-> 3805\u001b[0m     \u001b[38;5;28;01mreturn\u001b[39;00m \u001b[38;5;28;43mself\u001b[39;49m\u001b[38;5;241;43m.\u001b[39;49m\u001b[43m_engine\u001b[49m\u001b[38;5;241;43m.\u001b[39;49m\u001b[43mget_loc\u001b[49m\u001b[43m(\u001b[49m\u001b[43mcasted_key\u001b[49m\u001b[43m)\u001b[49m\n\u001b[0;32m   3806\u001b[0m \u001b[38;5;28;01mexcept\u001b[39;00m \u001b[38;5;167;01mKeyError\u001b[39;00m \u001b[38;5;28;01mas\u001b[39;00m err:\n",
      "File \u001b[1;32mindex.pyx:167\u001b[0m, in \u001b[0;36mpandas._libs.index.IndexEngine.get_loc\u001b[1;34m()\u001b[0m\n",
      "File \u001b[1;32mindex.pyx:196\u001b[0m, in \u001b[0;36mpandas._libs.index.IndexEngine.get_loc\u001b[1;34m()\u001b[0m\n",
      "File \u001b[1;32mpandas\\\\_libs\\\\hashtable_class_helper.pxi:7081\u001b[0m, in \u001b[0;36mpandas._libs.hashtable.PyObjectHashTable.get_item\u001b[1;34m()\u001b[0m\n",
      "File \u001b[1;32mpandas\\\\_libs\\\\hashtable_class_helper.pxi:7089\u001b[0m, in \u001b[0;36mpandas._libs.hashtable.PyObjectHashTable.get_item\u001b[1;34m()\u001b[0m\n",
      "\u001b[1;31mKeyError\u001b[0m: 'מכירות'",
      "\nThe above exception was the direct cause of the following exception:\n",
      "\u001b[1;31mKeyError\u001b[0m                                  Traceback (most recent call last)",
      "Cell \u001b[1;32mIn[17], line 2\u001b[0m\n\u001b[0;32m      1\u001b[0m \u001b[38;5;66;03m# Update Moving Average with a rolling window of 4\u001b[39;00m\n\u001b[1;32m----> 2\u001b[0m moving_average \u001b[38;5;241m=\u001b[39m \u001b[43mdf\u001b[49m\u001b[43m[\u001b[49m\u001b[38;5;124;43m'\u001b[39;49m\u001b[38;5;124;43mמכירות\u001b[39;49m\u001b[38;5;124;43m'\u001b[39;49m\u001b[43m]\u001b[49m\u001b[38;5;241m.\u001b[39mrolling(window\u001b[38;5;241m=\u001b[39m\u001b[38;5;241m4\u001b[39m)\u001b[38;5;241m.\u001b[39mmean()\n\u001b[0;32m      4\u001b[0m \u001b[38;5;66;03m# Update RMSE for Moving Average\u001b[39;00m\n\u001b[0;32m      5\u001b[0m ma_rmse \u001b[38;5;241m=\u001b[39m sqrt(mean_squared_error(df[\u001b[38;5;124m'\u001b[39m\u001b[38;5;124mמכירות\u001b[39m\u001b[38;5;124m'\u001b[39m][\u001b[38;5;241m3\u001b[39m:], moving_average[\u001b[38;5;241m3\u001b[39m:]))\n",
      "File \u001b[1;32m~\\AppData\\Local\\Programs\\Python\\Python312\\Lib\\site-packages\\pandas\\core\\frame.py:4102\u001b[0m, in \u001b[0;36mDataFrame.__getitem__\u001b[1;34m(self, key)\u001b[0m\n\u001b[0;32m   4100\u001b[0m \u001b[38;5;28;01mif\u001b[39;00m \u001b[38;5;28mself\u001b[39m\u001b[38;5;241m.\u001b[39mcolumns\u001b[38;5;241m.\u001b[39mnlevels \u001b[38;5;241m>\u001b[39m \u001b[38;5;241m1\u001b[39m:\n\u001b[0;32m   4101\u001b[0m     \u001b[38;5;28;01mreturn\u001b[39;00m \u001b[38;5;28mself\u001b[39m\u001b[38;5;241m.\u001b[39m_getitem_multilevel(key)\n\u001b[1;32m-> 4102\u001b[0m indexer \u001b[38;5;241m=\u001b[39m \u001b[38;5;28;43mself\u001b[39;49m\u001b[38;5;241;43m.\u001b[39;49m\u001b[43mcolumns\u001b[49m\u001b[38;5;241;43m.\u001b[39;49m\u001b[43mget_loc\u001b[49m\u001b[43m(\u001b[49m\u001b[43mkey\u001b[49m\u001b[43m)\u001b[49m\n\u001b[0;32m   4103\u001b[0m \u001b[38;5;28;01mif\u001b[39;00m is_integer(indexer):\n\u001b[0;32m   4104\u001b[0m     indexer \u001b[38;5;241m=\u001b[39m [indexer]\n",
      "File \u001b[1;32m~\\AppData\\Local\\Programs\\Python\\Python312\\Lib\\site-packages\\pandas\\core\\indexes\\base.py:3812\u001b[0m, in \u001b[0;36mIndex.get_loc\u001b[1;34m(self, key)\u001b[0m\n\u001b[0;32m   3807\u001b[0m     \u001b[38;5;28;01mif\u001b[39;00m \u001b[38;5;28misinstance\u001b[39m(casted_key, \u001b[38;5;28mslice\u001b[39m) \u001b[38;5;129;01mor\u001b[39;00m (\n\u001b[0;32m   3808\u001b[0m         \u001b[38;5;28misinstance\u001b[39m(casted_key, abc\u001b[38;5;241m.\u001b[39mIterable)\n\u001b[0;32m   3809\u001b[0m         \u001b[38;5;129;01mand\u001b[39;00m \u001b[38;5;28many\u001b[39m(\u001b[38;5;28misinstance\u001b[39m(x, \u001b[38;5;28mslice\u001b[39m) \u001b[38;5;28;01mfor\u001b[39;00m x \u001b[38;5;129;01min\u001b[39;00m casted_key)\n\u001b[0;32m   3810\u001b[0m     ):\n\u001b[0;32m   3811\u001b[0m         \u001b[38;5;28;01mraise\u001b[39;00m InvalidIndexError(key)\n\u001b[1;32m-> 3812\u001b[0m     \u001b[38;5;28;01mraise\u001b[39;00m \u001b[38;5;167;01mKeyError\u001b[39;00m(key) \u001b[38;5;28;01mfrom\u001b[39;00m \u001b[38;5;21;01merr\u001b[39;00m\n\u001b[0;32m   3813\u001b[0m \u001b[38;5;28;01mexcept\u001b[39;00m \u001b[38;5;167;01mTypeError\u001b[39;00m:\n\u001b[0;32m   3814\u001b[0m     \u001b[38;5;66;03m# If we have a listlike key, _check_indexing_error will raise\u001b[39;00m\n\u001b[0;32m   3815\u001b[0m     \u001b[38;5;66;03m#  InvalidIndexError. Otherwise we fall through and re-raise\u001b[39;00m\n\u001b[0;32m   3816\u001b[0m     \u001b[38;5;66;03m#  the TypeError.\u001b[39;00m\n\u001b[0;32m   3817\u001b[0m     \u001b[38;5;28mself\u001b[39m\u001b[38;5;241m.\u001b[39m_check_indexing_error(key)\n",
      "\u001b[1;31mKeyError\u001b[0m: 'מכירות'"
     ]
    }
   ],
   "source": [
    "# Update Moving Average with a rolling window of 4\n",
    "moving_average = df['מכירות'].rolling(window=4).mean()\n",
    "\n",
    "# Update RMSE for Moving Average\n",
    "ma_rmse = sqrt(mean_squared_error(df['מכירות'][3:], moving_average[3:]))\n",
    "\n",
    "# Update Combined Method (Holt with Moving Average)\n",
    "combined_forecast = (holt_forecast + moving_average[-1]) / 2\n",
    "adjusted_length = min(len(holt_fit.fittedvalues), len(moving_average[3:]))\n",
    "holt_fitted_adjusted = holt_fit.fittedvalues[-adjusted_length:]\n",
    "moving_average_adjusted = moving_average[3:].iloc[-adjusted_length:]\n",
    "combined_rmse = sqrt(mean_squared_error(holt_fitted_adjusted, moving_average_adjusted))\n",
    "\n",
    "# Recreate the Moving Average table\n",
    "moving_average_table = pd.DataFrame({\n",
    "    \"Date\": df.index,\n",
    "    \"Actual Sales\": df['מכירות'],\n",
    "    \"Moving Average Predicted Sales\": moving_average\n",
    "}).set_index(\"Date\")\n",
    "\n",
    "# Recreate the Combined Method table\n",
    "combined_table = pd.DataFrame({\n",
    "    \"Date\": df.index,\n",
    "    \"Actual Sales\": df['מכירות'],\n",
    "    \"Combined Predicted Sales\": holt_fit.fittedvalues + moving_average.shift(1) / 2\n",
    "}).set_index(\"Date\")\n",
    "\n",
    "# Display updated tables\n",
    "tools.display_dataframe_to_user(name=\"Updated Moving Average Method: Actual vs Predicted\", dataframe=moving_average_table)\n",
    "tools.display_dataframe_to_user(name=\"Updated Combined Method: Actual vs Predicted\", dataframe=combined_table)\n",
    "\n",
    "# Updated Moving Average Plot\n",
    "plt.figure(figsize=(12, 6))\n",
    "plt.plot(df.index, df['מכירות'], marker='o', label='Actual Sales')\n",
    "plt.plot(df.index, moving_average, linestyle='--', label='Moving Average (t=4)')\n",
    "plt.title(\"Sales Forecast using Updated Moving Average Method (t=4)\")\n",
    "plt.xlabel(\"Date\")\n",
    "plt.ylabel(\"Sales\")\n",
    "plt.legend()\n",
    "plt.grid()\n",
    "plt.show()\n",
    "\n",
    "# Updated Combined Method Plot\n",
    "plt.figure(figsize=(12, 6))\n",
    "plt.plot(df.index, df['מכירות'], marker='o', label='Actual Sales')\n",
    "plt.plot(df.index, holt_fit.fittedvalues + moving_average.shift(1) / 2, linestyle='--', label='Combined Method (Holt + MA, t=4)')\n",
    "plt.plot(pd.date_range(df.index[-1], periods=7, freq='M')[1:], combined_forecast, label='Combined Method Forecast', color='red')\n",
    "plt.title(\"Sales Forecast using Updated Combined Method (Holt + Moving Average, t=4)\")\n",
    "plt.xlabel(\"Date\")\n",
    "plt.ylabel(\"Sales\")\n",
    "plt.legend()\n",
    "plt.grid()\n",
    "plt.show()\n",
    "\n",
    "# Update RMSE values and display\n",
    "rmse_values = {\n",
    "    \"Method\": [\"Holt without seasonality\", \"Moving Average (t=4)\", \"Holt with Moving Average (t=4)\"],\n",
    "    \"RMSE\": [holt_rmse, ma_rmse, combined_rmse]\n",
    "}\n",
    "rmse_df = pd.DataFrame(rmse_values)\n",
    "tools.display_dataframe_to_user(name=\"Updated Sales Forecast RMSE Values\", dataframe=rmse_df)\n"
   ]
  },
  {
   "cell_type": "code",
   "execution_count": null,
   "id": "9af6be55-159f-4010-a5dc-61533fe41abc",
   "metadata": {},
   "outputs": [],
   "source": []
  },
  {
   "cell_type": "code",
   "execution_count": null,
   "id": "4d33b63b-1f64-48d9-a72b-e6dc46830e09",
   "metadata": {},
   "outputs": [],
   "source": []
  },
  {
   "cell_type": "code",
   "execution_count": null,
   "id": "4b35a255-78d9-45ea-98d9-00738dd1a55a",
   "metadata": {},
   "outputs": [],
   "source": []
  }
 ],
 "metadata": {
  "kernelspec": {
   "display_name": "Python 3 (ipykernel)",
   "language": "python",
   "name": "python3"
  },
  "language_info": {
   "codemirror_mode": {
    "name": "ipython",
    "version": 3
   },
   "file_extension": ".py",
   "mimetype": "text/x-python",
   "name": "python",
   "nbconvert_exporter": "python",
   "pygments_lexer": "ipython3",
   "version": "3.12.2"
  }
 },
 "nbformat": 4,
 "nbformat_minor": 5
}
