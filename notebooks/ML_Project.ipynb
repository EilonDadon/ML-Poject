{
 "cells": [
  {
   "cell_type": "markdown",
   "id": "c222da8a-7861-428f-aa36-074cb7c6f851",
   "metadata": {},
   "source": [
    "### [Eilon Dadon 315784611](#eilon-dadon-315784611)\n",
    "### [Shay Davidovich 209208057](#shay-davidovich-209208057)"
   ]
  },
  {
   "cell_type": "markdown",
   "id": "1d816c37-d8ea-4212-add8-98a75f309900",
   "metadata": {},
   "source": [
    "# <span style=\"font-size: 1.2em;\">Table of Contents</span>\n",
    "\n",
    "- <span style=\"font-size: 1.1em;\">[1. Learning The Data](#1-learning-the-data)</span>\n",
    "- <span style=\"font-size: 1.1em;\">[2. Preparing The Data](#2-preparing-the-data)</span>\n",
    "  - <span style=\"font-size: 1.05em;\">[2.1 Creating Cleaning and Outlier Removal Functions](#21-creating-cleaning-and-outlier-removal-functions)</span>\n",
    "- <span style=\"font-size: 1.1em;\">[3. Analyzing Donations Through Years](#3-analyzing-donations-through-years)</span>\n",
    "  - <span style=\"font-size: 1.05em;\">[3.1 Examining Donation Size and Quantity Distribution](#31-examining-donation-size-and-quantity-distribution)</span>\n",
    "- <span style=\"font-size: 1.1em;\">[4. Building Classification Models](#4-building-classification-models)</span>\n",
    "  - <span style=\"font-size: 1.05em;\">[4.1 Preparing Data: Encoding Features and Pipelines](#41-preparing-data-encoding-features-and-pipelines)</span>\n",
    "  - <span style=\"font-size: 1.05em;\">[4.2 Evaluating Models](#42-evaluating-models)</span>\n",
    "    - <span style=\"font-size: 1em;\">[4.2.1 Logistic Regression](#421-logistic-regression)</span>\n",
    "    - <span style=\"font-size: 1em;\">[4.2.2 Random Forest](#422-random-forest)</span>\n",
    "    - <span style=\"font-size: 1em;\">[4.2.3 XGBoost](#423-xgboost)</span>\n",
    "    - <span style=\"font-size: 1em;\">[4.2.4 SVM](#424-svm)</span>\n",
    "    - <span style=\"font-size: 1em;\">[4.2.5 KNN](#425-knn)</span>\n",
    "  - <span style=\"font-size: 1.05em;\">[4.3 Final Model Training and Feature Importance](#43-final-model-training-and-feature-importance)</span>\n",
    "    - <span style=\"font-size: 1em;\">[4.3.1 Building the Final Model](#431-building-the-final-model)</span>\n",
    "    - <span style=\"font-size: 1em;\">[4.3.2 Feature Importance Analysis](#432-feature-importance-analysis)</span>\n",
    "- <span style=\"font-size: 1.1em;\">[5. Cluster Analysis](#5-cluster-analysis)</span>\n",
    "  - <span style=\"font-size: 1.05em;\">[5.1 K-Means Clustering](#51-k-means-clustering)</span>\n",
    "    - <span style=\"font-size: 1em;\">[5.1.1 Optimal Clusters with Elbow Method](#511-optimal-clusters-with-elbow-method)</span>\n",
    "    - <span style=\"font-size: 1em;\">[5.1.2 Finalizing K-Means](#512-finalizing-k-means)</span>\n",
    "    - <span style=\"font-size: 1em;\">[5.1.3 Visualizing K-Means Results](#513-visualizing-k-means-results)</span>\n",
    "  - <span style=\"font-size: 1.05em;\">[5.2 DBSCAN Clustering](#52-dbscan-clustering)</span>\n",
    "    - <span style=\"font-size: 1em;\">[5.2.1 Visualizing DBSCAN Clusters](#521-visualizing-dbscan-clusters)</span>\n"
   ]
  },
  {
   "cell_type": "code",
   "execution_count": 1,
   "id": "b88233a2-c851-4e5e-b6e5-a37aadd19851",
   "metadata": {},
   "outputs": [],
   "source": [
    "import pandas as pd\n",
    "import numpy as np\n",
    "import requests\n",
    "import seaborn as sns\n",
    "import matplotlib.pyplot as plt\n",
    "from sklearn.model_selection import train_test_split, cross_val_score\n",
    "from sklearn.preprocessing import StandardScaler, OneHotEncoder,LabelEncoder\n",
    "from sklearn.compose import ColumnTransformer\n",
    "from sklearn.pipeline import Pipeline\n",
    "from sklearn.linear_model import LinearRegression,LogisticRegression\n",
    "from sklearn.ensemble import RandomForestClassifier\n",
    "from xgboost import XGBClassifier\n",
    "from sklearn.svm import SVC\n",
    "from sklearn.neighbors import KNeighborsClassifier\n",
    "from sklearn.metrics import accuracy_score, precision_score, recall_score, f1_score\n",
    "import numpy as np\n",
    "import warnings\n",
    "from sklearn.exceptions import FitFailedWarning\n",
    "from sklearn.cluster import KMeans\n",
    "from sklearn.metrics import silhouette_score\n",
    "from sklearn.cluster import DBSCAN\n",
    "warnings.filterwarnings(\"ignore\", category=UserWarning)  \n",
    "warnings.filterwarnings(\"ignore\", category=FitFailedWarning)  "
   ]
  },
  {
   "cell_type": "code",
   "execution_count": 2,
   "id": "d9adec5b-9655-454d-ae9b-2ea3030a4353",
   "metadata": {},
   "outputs": [],
   "source": [
    "# API URL and parameters\n",
    "url = 'https://data.gov.il/api/3/action/datastore_search'\n",
    "params = {'resource_id': '35cb40b5-3f13-4bca-9ce2-488085913107'}\n",
    "\n",
    "# Fetch data from API and load into DataFrame\n",
    "response = requests.get(url, params=params)\n",
    "data = pd.DataFrame(response.json()['result']['records'])\n",
    "data = data.copy()"
   ]
  },
  {
   "cell_type": "markdown",
   "id": "dbe72ff1-e298-4daf-890c-897160fd8263",
   "metadata": {},
   "source": [
    "# 1. Learning The Data"
   ]
  },
  {
   "cell_type": "code",
   "execution_count": 3,
   "id": "a945343b-426d-44ed-8152-20b653e2df5b",
   "metadata": {
    "scrolled": true
   },
   "outputs": [
    {
     "data": {
      "text/html": [
       "<div>\n",
       "<style scoped>\n",
       "    .dataframe tbody tr th:only-of-type {\n",
       "        vertical-align: middle;\n",
       "    }\n",
       "\n",
       "    .dataframe tbody tr th {\n",
       "        vertical-align: top;\n",
       "    }\n",
       "\n",
       "    .dataframe thead th {\n",
       "        text-align: right;\n",
       "    }\n",
       "</style>\n",
       "<table border=\"1\" class=\"dataframe\">\n",
       "  <thead>\n",
       "    <tr style=\"text-align: right;\">\n",
       "      <th></th>\n",
       "      <th>_id</th>\n",
       "      <th>מספר עמותה</th>\n",
       "      <th>שם עמותה</th>\n",
       "      <th>תאריך קבלת התרומה</th>\n",
       "      <th>ישות מדינית זרה תורמת</th>\n",
       "      <th>סוג ישות מדינית זרה תורמת (קוד)</th>\n",
       "      <th>סכום התרומה בש~ח</th>\n",
       "      <th>מטבע</th>\n",
       "      <th>שער המרה</th>\n",
       "      <th>מטרת תרומה</th>\n",
       "      <th>התנאים לתרומה</th>\n",
       "      <th>שנת תרומה</th>\n",
       "      <th>רבעון תרומה</th>\n",
       "      <th>עיקר מימון תרומות מישות מדינית זרה</th>\n",
       "    </tr>\n",
       "  </thead>\n",
       "  <tbody>\n",
       "    <tr>\n",
       "      <th>0</th>\n",
       "      <td>1</td>\n",
       "      <td>580000370</td>\n",
       "      <td>עוז ושלום~ החוג הרעיוני לציונות דתית (ע~ר)</td>\n",
       "      <td>29/06/2021</td>\n",
       "      <td>Stichingqnet solidariteits fand</td>\n",
       "      <td>איחוד~ ארגון או חבר של גופים זרים</td>\n",
       "      <td>47416</td>\n",
       "      <td>אירו</td>\n",
       "      <td>3.95</td>\n",
       "      <td>עלון שבת שלום</td>\n",
       "      <td></td>\n",
       "      <td>2020</td>\n",
       "      <td>ראשון</td>\n",
       "      <td>לא</td>\n",
       "    </tr>\n",
       "    <tr>\n",
       "      <th>1</th>\n",
       "      <td>2</td>\n",
       "      <td>580000370</td>\n",
       "      <td>עוז ושלום~ החוג הרעיוני לציונות דתית (ע~ר)</td>\n",
       "      <td>29/06/2021</td>\n",
       "      <td>Penn Commissie Dienst</td>\n",
       "      <td>איחוד~ ארגון או חבר של גופים זרים</td>\n",
       "      <td>3296</td>\n",
       "      <td>אירו</td>\n",
       "      <td>3.88</td>\n",
       "      <td>עלון שבת שלום</td>\n",
       "      <td></td>\n",
       "      <td>2020</td>\n",
       "      <td>ראשון</td>\n",
       "      <td>לא</td>\n",
       "    </tr>\n",
       "    <tr>\n",
       "      <th>2</th>\n",
       "      <td>3</td>\n",
       "      <td>580002053</td>\n",
       "      <td>סינמטק תל - אביב (ע~ר)</td>\n",
       "      <td>01/07/2019</td>\n",
       "      <td>שגרירות אוסטריה</td>\n",
       "      <td>אורגן~ רשות או נציגות של מדינה זרה או של איחוד...</td>\n",
       "      <td>4350</td>\n",
       "      <td>אירו</td>\n",
       "      <td>4.23</td>\n",
       "      <td>תמיכה בפסטיבל הסטודנטים</td>\n",
       "      <td>ללא</td>\n",
       "      <td>2018</td>\n",
       "      <td>רביעי</td>\n",
       "      <td>לא</td>\n",
       "    </tr>\n",
       "    <tr>\n",
       "      <th>3</th>\n",
       "      <td>4</td>\n",
       "      <td>580002053</td>\n",
       "      <td>סינמטק תל - אביב (ע~ר)</td>\n",
       "      <td>01/07/2019</td>\n",
       "      <td>שגרירות יוון</td>\n",
       "      <td>אורגן~ רשות או נציגות של מדינה זרה או של איחוד...</td>\n",
       "      <td>1577</td>\n",
       "      <td>אירו</td>\n",
       "      <td>4.15</td>\n",
       "      <td>כרטיסי טיסה לאמנים משתתפים בפסטיבל הסטודנטים</td>\n",
       "      <td>ללא</td>\n",
       "      <td>2018</td>\n",
       "      <td>רביעי</td>\n",
       "      <td>לא</td>\n",
       "    </tr>\n",
       "    <tr>\n",
       "      <th>4</th>\n",
       "      <td>5</td>\n",
       "      <td>580002053</td>\n",
       "      <td>סינמטק תל - אביב (ע~ר)</td>\n",
       "      <td>01/07/2019</td>\n",
       "      <td>שגרירות הונגריה</td>\n",
       "      <td>אורגן~ רשות או נציגות של מדינה זרה או של איחוד...</td>\n",
       "      <td>7600</td>\n",
       "      <td>אירו</td>\n",
       "      <td>4.20</td>\n",
       "      <td>כרטיסי טיסה אורחים מהונגריה לפסטיבל הסטונדטים</td>\n",
       "      <td>ללא</td>\n",
       "      <td>2018</td>\n",
       "      <td>רביעי</td>\n",
       "      <td>לא</td>\n",
       "    </tr>\n",
       "  </tbody>\n",
       "</table>\n",
       "</div>"
      ],
      "text/plain": [
       "   _id  מספר עמותה                                    שם עמותה  \\\n",
       "0    1   580000370  עוז ושלום~ החוג הרעיוני לציונות דתית (ע~ר)   \n",
       "1    2   580000370  עוז ושלום~ החוג הרעיוני לציונות דתית (ע~ר)   \n",
       "2    3   580002053                      סינמטק תל - אביב (ע~ר)   \n",
       "3    4   580002053                      סינמטק תל - אביב (ע~ר)   \n",
       "4    5   580002053                      סינמטק תל - אביב (ע~ר)   \n",
       "\n",
       "  תאריך קבלת התרומה            ישות מדינית זרה תורמת  \\\n",
       "0        29/06/2021  Stichingqnet solidariteits fand   \n",
       "1        29/06/2021            Penn Commissie Dienst   \n",
       "2        01/07/2019                  שגרירות אוסטריה   \n",
       "3        01/07/2019                     שגרירות יוון   \n",
       "4        01/07/2019                  שגרירות הונגריה   \n",
       "\n",
       "                     סוג ישות מדינית זרה תורמת (קוד)  סכום התרומה בש~ח  מטבע  \\\n",
       "0                  איחוד~ ארגון או חבר של גופים זרים             47416  אירו   \n",
       "1                  איחוד~ ארגון או חבר של גופים זרים              3296  אירו   \n",
       "2  אורגן~ רשות או נציגות של מדינה זרה או של איחוד...              4350  אירו   \n",
       "3  אורגן~ רשות או נציגות של מדינה זרה או של איחוד...              1577  אירו   \n",
       "4  אורגן~ רשות או נציגות של מדינה זרה או של איחוד...              7600  אירו   \n",
       "\n",
       "   שער המרה                                      מטרת תרומה התנאים לתרומה  \\\n",
       "0      3.95                                   עלון שבת שלום                 \n",
       "1      3.88                                   עלון שבת שלום                 \n",
       "2      4.23                         תמיכה בפסטיבל הסטודנטים           ללא   \n",
       "3      4.15    כרטיסי טיסה לאמנים משתתפים בפסטיבל הסטודנטים           ללא   \n",
       "4      4.20  כרטיסי טיסה אורחים מהונגריה לפסטיבל הסטונדטים            ללא   \n",
       "\n",
       "   שנת תרומה רבעון תרומה עיקר מימון תרומות מישות מדינית זרה  \n",
       "0       2020       ראשון                                 לא  \n",
       "1       2020       ראשון                                 לא  \n",
       "2       2018       רביעי                                 לא  \n",
       "3       2018       רביעי                                 לא  \n",
       "4       2018       רביעי                                 לא  "
      ]
     },
     "execution_count": 3,
     "metadata": {},
     "output_type": "execute_result"
    }
   ],
   "source": [
    "data.head()"
   ]
  },
  {
   "cell_type": "code",
   "execution_count": 4,
   "id": "d95556cb-052c-42de-8c8e-88c7e1a0b552",
   "metadata": {},
   "outputs": [
    {
     "data": {
      "text/html": [
       "<div>\n",
       "<style scoped>\n",
       "    .dataframe tbody tr th:only-of-type {\n",
       "        vertical-align: middle;\n",
       "    }\n",
       "\n",
       "    .dataframe tbody tr th {\n",
       "        vertical-align: top;\n",
       "    }\n",
       "\n",
       "    .dataframe thead th {\n",
       "        text-align: right;\n",
       "    }\n",
       "</style>\n",
       "<table border=\"1\" class=\"dataframe\">\n",
       "  <thead>\n",
       "    <tr style=\"text-align: right;\">\n",
       "      <th></th>\n",
       "      <th>_id</th>\n",
       "      <th>מספר עמותה</th>\n",
       "      <th>סכום התרומה בש~ח</th>\n",
       "      <th>שער המרה</th>\n",
       "      <th>שנת תרומה</th>\n",
       "    </tr>\n",
       "  </thead>\n",
       "  <tbody>\n",
       "    <tr>\n",
       "      <th>count</th>\n",
       "      <td>12032.000000</td>\n",
       "      <td>1.203200e+04</td>\n",
       "      <td>1.203200e+04</td>\n",
       "      <td>1.203200e+04</td>\n",
       "      <td>12032.000000</td>\n",
       "    </tr>\n",
       "    <tr>\n",
       "      <th>mean</th>\n",
       "      <td>6016.500000</td>\n",
       "      <td>5.689722e+08</td>\n",
       "      <td>7.545567e+05</td>\n",
       "      <td>3.865742e+02</td>\n",
       "      <td>2018.392869</td>\n",
       "    </tr>\n",
       "    <tr>\n",
       "      <th>std</th>\n",
       "      <td>3473.483554</td>\n",
       "      <td>2.483433e+07</td>\n",
       "      <td>2.341901e+07</td>\n",
       "      <td>3.590251e+04</td>\n",
       "      <td>3.311997</td>\n",
       "    </tr>\n",
       "    <tr>\n",
       "      <th>min</th>\n",
       "      <td>1.000000</td>\n",
       "      <td>5.100307e+08</td>\n",
       "      <td>-4.730000e+04</td>\n",
       "      <td>0.000000e+00</td>\n",
       "      <td>2012.000000</td>\n",
       "    </tr>\n",
       "    <tr>\n",
       "      <th>25%</th>\n",
       "      <td>3008.750000</td>\n",
       "      <td>5.800593e+08</td>\n",
       "      <td>2.945150e+04</td>\n",
       "      <td>0.000000e+00</td>\n",
       "      <td>2016.000000</td>\n",
       "    </tr>\n",
       "    <tr>\n",
       "      <th>50%</th>\n",
       "      <td>6016.500000</td>\n",
       "      <td>5.802750e+08</td>\n",
       "      <td>7.489000e+04</td>\n",
       "      <td>3.490000e+00</td>\n",
       "      <td>2018.000000</td>\n",
       "    </tr>\n",
       "    <tr>\n",
       "      <th>75%</th>\n",
       "      <td>9024.250000</td>\n",
       "      <td>5.804107e+08</td>\n",
       "      <td>1.728000e+05</td>\n",
       "      <td>3.890000e+00</td>\n",
       "      <td>2021.000000</td>\n",
       "    </tr>\n",
       "    <tr>\n",
       "      <th>max</th>\n",
       "      <td>12032.000000</td>\n",
       "      <td>5.807811e+08</td>\n",
       "      <td>2.465184e+09</td>\n",
       "      <td>3.922325e+06</td>\n",
       "      <td>2024.000000</td>\n",
       "    </tr>\n",
       "  </tbody>\n",
       "</table>\n",
       "</div>"
      ],
      "text/plain": [
       "                _id    מספר עמותה  סכום התרומה בש~ח      שער המרה  \\\n",
       "count  12032.000000  1.203200e+04      1.203200e+04  1.203200e+04   \n",
       "mean    6016.500000  5.689722e+08      7.545567e+05  3.865742e+02   \n",
       "std     3473.483554  2.483433e+07      2.341901e+07  3.590251e+04   \n",
       "min        1.000000  5.100307e+08     -4.730000e+04  0.000000e+00   \n",
       "25%     3008.750000  5.800593e+08      2.945150e+04  0.000000e+00   \n",
       "50%     6016.500000  5.802750e+08      7.489000e+04  3.490000e+00   \n",
       "75%     9024.250000  5.804107e+08      1.728000e+05  3.890000e+00   \n",
       "max    12032.000000  5.807811e+08      2.465184e+09  3.922325e+06   \n",
       "\n",
       "          שנת תרומה  \n",
       "count  12032.000000  \n",
       "mean    2018.392869  \n",
       "std        3.311997  \n",
       "min     2012.000000  \n",
       "25%     2016.000000  \n",
       "50%     2018.000000  \n",
       "75%     2021.000000  \n",
       "max     2024.000000  "
      ]
     },
     "execution_count": 4,
     "metadata": {},
     "output_type": "execute_result"
    }
   ],
   "source": [
    "data.describe()"
   ]
  },
  {
   "cell_type": "code",
   "execution_count": 5,
   "id": "9f9bb30c-e921-464d-a05a-949b469f818e",
   "metadata": {},
   "outputs": [
    {
     "data": {
      "text/plain": [
       "Index(['_id', 'מספר עמותה', 'שם עמותה', 'תאריך קבלת התרומה',\n",
       "       'ישות מדינית זרה תורמת', 'סוג ישות מדינית זרה תורמת (קוד)',\n",
       "       'סכום התרומה בש~ח', 'מטבע', 'שער המרה', 'מטרת תרומה', 'התנאים לתרומה',\n",
       "       'שנת תרומה', 'רבעון תרומה', 'עיקר מימון תרומות מישות מדינית זרה'],\n",
       "      dtype='object')"
      ]
     },
     "execution_count": 5,
     "metadata": {},
     "output_type": "execute_result"
    }
   ],
   "source": [
    "data.columns"
   ]
  },
  {
   "cell_type": "code",
   "execution_count": 6,
   "id": "e1df4b97-9d29-4c7b-bd7d-08426a6d678b",
   "metadata": {},
   "outputs": [
    {
     "data": {
      "text/plain": [
       "_id                                   0\n",
       "מספר עמותה                            0\n",
       "שם עמותה                              0\n",
       "תאריך קבלת התרומה                     0\n",
       "ישות מדינית זרה תורמת                 0\n",
       "סוג ישות מדינית זרה תורמת (קוד)       0\n",
       "סכום התרומה בש~ח                      0\n",
       "מטבע                                  0\n",
       "שער המרה                              0\n",
       "מטרת תרומה                            0\n",
       "התנאים לתרומה                         0\n",
       "שנת תרומה                             0\n",
       "רבעון תרומה                           0\n",
       "עיקר מימון תרומות מישות מדינית זרה    0\n",
       "dtype: int64"
      ]
     },
     "execution_count": 6,
     "metadata": {},
     "output_type": "execute_result"
    }
   ],
   "source": [
    "data.isnull().sum()"
   ]
  },
  {
   "cell_type": "markdown",
   "id": "1d808d56-a921-41dd-9a86-728b48996d6c",
   "metadata": {},
   "source": [
    "# 2. Preparing The Data"
   ]
  },
  {
   "cell_type": "code",
   "execution_count": 7,
   "id": "dc397dd0-f824-42bb-92d8-62bc47aa74c8",
   "metadata": {},
   "outputs": [],
   "source": [
    "# Changing Hebrew column header to English\n",
    "data.columns = data.columns.str.strip()\n",
    "column_mapping = {\n",
    "\"_id\": \"ID\",\n",
    "\"מספר עמותה\": \"Association Number\",\n",
    "\"שם עמותה\": \"Association Name\",\n",
    "\"תאריך קבלת התרומה\": \"Donation Receipt Date\",\n",
    "\"ישות מדינית זרה תורמת\": \"Foreign Entity Name\",\n",
    "\"סוג ישות מדינית זרה תורמת (קוד)\": \"Type of Foreign Entity\",\n",
    "\"סכום התרומה בש~ח\": \"Donation Amount\",\n",
    "\"מטבע\": \"Currency\",\n",
    "\"שער המרה\": \"Exchange Rate\",\n",
    "\"מטרת תרומה\": \"Donation Purpose\",\n",
    "\"התנאים לתרומה\": \"Donation Conditions\",\n",
    "\"שנת תרומה\": \"Donation Year\",\n",
    "\"רבעון תרומה\": \"Donation Quarter\",\n",
    "\"עיקר מימון תרומות מישות מדינית זרה\": \"Main Funding from Foreign Entity\"\n",
    "}\n",
    "# Rename columns\n",
    "data.rename(columns=column_mapping, inplace=True)"
   ]
  },
  {
   "cell_type": "code",
   "execution_count": 8,
   "id": "d9f02290-8311-419f-8a22-d29e305e16a7",
   "metadata": {},
   "outputs": [
    {
     "data": {
      "text/plain": [
       "Index(['ID', 'Association Number', 'Association Name', 'Donation Receipt Date',\n",
       "       'Foreign Entity Name', 'Type of Foreign Entity', 'Donation Amount',\n",
       "       'Currency', 'Exchange Rate', 'Donation Purpose', 'Donation Conditions',\n",
       "       'Donation Year', 'Donation Quarter',\n",
       "       'Main Funding from Foreign Entity'],\n",
       "      dtype='object')"
      ]
     },
     "execution_count": 8,
     "metadata": {},
     "output_type": "execute_result"
    }
   ],
   "source": [
    "data.columns"
   ]
  },
  {
   "cell_type": "markdown",
   "id": "c0c5f9e2-1880-463b-a0a4-6d5882d92d1f",
   "metadata": {},
   "source": [
    "### Creating 2 functions: 1. cleaning data 2. removing outliers"
   ]
  },
  {
   "cell_type": "code",
   "execution_count": 9,
   "id": "17655cec-4118-4e4c-9b22-e651c49802dc",
   "metadata": {},
   "outputs": [],
   "source": [
    "def prepare_data(data):\n",
    "    # Strip leading/trailing whitespaces from all elements in the DataFrame\n",
    "    data = data.applymap(lambda x: x.strip() if isinstance(x, str) else x) #this line from ##GPT##\n",
    "\n",
    "    # Convert relevant columns to uppercase\n",
    "    data['Donation Conditions'] = data['Donation Conditions'].str.upper()\n",
    "    data['Foreign Entity Name'] = data['Foreign Entity Name'].str.upper()\n",
    "\n",
    "    # Group multiple values into one group\n",
    "    # \"Foreign Entity Name\" Column\n",
    "    data.loc[data['Foreign Entity Name'].str.contains('MEPI', case=False), 'Foreign Entity Name'] = 'MEPI'\n",
    "    data.loc[data['Foreign Entity Name'].str.contains('USAID|שגרירות ארה|שגרירות ארצות|שגרירות אר~הב|UNITED STATES AGENCY FOR INTERNATIONAL DEVELOPMENT', case=False), 'Foreign Entity Name'] = 'USAID'\n",
    "    data.loc[data['Foreign Entity Name'].str.contains('האיחוד האי', case=False), 'Foreign Entity Name'] = 'האיחוד האירופי'\n",
    "    data.loc[data['Foreign Entity Name'].str.contains('רוזה', case=False), 'Foreign Entity Name'] = 'קרן רוזה לוקסמבורג'\n",
    "    data.loc[data['Foreign Entity Name'].str.contains('BREAD', case=False), 'Foreign Entity Name'] = 'BREAD FOR THE WORLD'\n",
    "    data.loc[data['Foreign Entity Name'].str.contains('NORWEGIAN REF', case=False), 'Foreign Entity Name'] = 'NORWEGIAN REFUGEE COUNCIL'\n",
    "    data.loc[data['Foreign Entity Name'].str.contains('UNDP', case=False), 'Foreign Entity Name'] = 'UNDP'\n",
    "    data.loc[data['Foreign Entity Name'].str.contains('BROEDE', case=False), 'Foreign Entity Name'] = 'BROEDERLIJK DELEN'\n",
    "    data.loc[data['Foreign Entity Name'].str.contains('MISEREOR', case=False), 'Foreign Entity Name'] = 'MISEREOR'\n",
    "    data.loc[data['Foreign Entity Name'].str.contains('UNHCR', case=False), 'Foreign Entity Name'] = 'UNHCR'\n",
    "    data.loc[data['Foreign Entity Name'].str.contains('היינריך', case=False), 'Foreign Entity Name'] = 'קרן היינריך בל'\n",
    "    data.loc[data['Foreign Entity Name'].str.contains('אברט', case=False), 'Foreign Entity Name'] = 'קרן פרידריך אברט'\n",
    "    data.loc[data['Foreign Entity Name'].str.contains('שגרירות גרמניה', case=False), 'Foreign Entity Name'] = 'שגרירות גרמניה'\n",
    "    data.loc[data['Foreign Entity Name'].str.contains('OXFAM NOV', case=False), 'Foreign Entity Name'] = 'OXFAM NOVIB'\n",
    "    data.loc[data['Foreign Entity Name'].str.contains('DIAKO', case=False), 'Foreign Entity Name'] = 'DIAKONIA'\n",
    "    data.loc[\n",
    "        ((data['Foreign Entity Name'].str.contains('אין') & (data['Foreign Entity Name'].str.len() == 3)) | \n",
    "         (data['Foreign Entity Name'].str.contains('אין תרומה'))), \n",
    "        'Foreign Entity Name'\n",
    "    ] = 'אין תרומה'\n",
    "\n",
    "    # \"Donation Purpose\" Column\n",
    "    data.loc[data['Donation Purpose'].str.contains('פעילות שוטפת', case=False), 'Donation Purpose'] = 'פעילות שוטפת'\n",
    "    data.loc[data['Donation Purpose'].str.contains('קידום מקצועי', case=False), 'Donation Purpose'] = 'קידום מקצועי לרשויות'\n",
    "    data.loc[data['Donation Purpose'].str.contains('מחקר', case=False), 'Donation Purpose'] = 'מחקר'\n",
    "\n",
    "    # \"Donation Conditions\" Column\n",
    "    data.loc[(data['Donation Conditions'].str.contains('אין|ללא תנאים'))|(data['Donation Conditions'] == ''), 'Donation Conditions'] = \"אין תנאי\"\n",
    "    data.loc[data['Donation Conditions'].str.contains('דוח|דו~ח'),'Donation Conditions'] = 'הגשת דוח מעקב'\n",
    "\n",
    "    # Convert quarters from text to numbers\n",
    "    data.loc[data['Donation Quarter'].str.contains('ראשון', case=False, na=False), 'Donation Quarter'] = 1\n",
    "    data.loc[data['Donation Quarter'].str.contains('שני', case=False, na=False), 'Donation Quarter'] = 2\n",
    "    data.loc[data['Donation Quarter'].str.contains('שלישי', case=False, na=False), 'Donation Quarter'] = 3\n",
    "    data.loc[data['Donation Quarter'].str.contains('רביעי', case=False, na=False), 'Donation Quarter'] = 4\n",
    "\n",
    "    # Correcting negative donation amounts in Donation Amount column\n",
    "    data.loc[data['Donation Amount'] < 0, 'Donation Amount'] = data.loc[data['Donation Amount'] < 0, 'Donation Amount'] * -1\n",
    "\n",
    "    # Remove specific erroneous record by ID\n",
    "    index_to_drop = data[data['ID'] == 9718].index\n",
    "    data = data.drop(index_to_drop)\n",
    "\n",
    "    return data"
   ]
  },
  {
   "cell_type": "code",
   "execution_count": 10,
   "id": "b0738ab7-bf9d-4c6e-9e63-6ce99d11dccb",
   "metadata": {},
   "outputs": [
    {
     "name": "stderr",
     "output_type": "stream",
     "text": [
      "C:\\Users\\User\\AppData\\Local\\Temp\\ipykernel_34596\\736995564.py:3: FutureWarning: DataFrame.applymap has been deprecated. Use DataFrame.map instead.\n",
      "  data = data.applymap(lambda x: x.strip() if isinstance(x, str) else x) #this line from ##GPT##\n"
     ]
    }
   ],
   "source": [
    "data = prepare_data(data)"
   ]
  },
  {
   "cell_type": "markdown",
   "id": "d77c05f8-7467-44ec-8ca6-d785ea082ee8",
   "metadata": {},
   "source": [
    "### בדיקת איזה ערכי שוליים להסיר\n",
    "* הסבר על ניקוי ערכים שוליים:\n",
    "* היות ואנחנו רוצים לחזות את מטרת התרומה וראינו שיש המון סוגים של מטרות תרומה עם ערך אחד שהופיע.\n",
    "* מצד שני רוב הנתונים שלנו עם מטרות תרומה שמופיעות המון פעמים.\n",
    "* בטבלה שנראה מיד עכשיו (למטה) נוכל לראות שעשינו איגוד לכל סוג של מטרת תרומה וכאשר נשאיר רק את הנתונים שמטרת התרומה שלנם הופיעה יותר מ3 פעמים עדיין נשאר לנו יותר מ6700 שורות."
   ]
  },
  {
   "cell_type": "code",
   "execution_count": 11,
   "id": "527a8cf7-c143-49f9-90c2-ebe265d36fe6",
   "metadata": {
    "jupyter": {
     "source_hidden": true
    }
   },
   "outputs": [
    {
     "name": "stdout",
     "output_type": "stream",
     "text": [
      "Number of rows in the original data for donation purposes with more than 4 donations: 6774\n",
      "Number of rows in the original data for donation purposes with 1 donation:2699\n"
     ]
    },
    {
     "data": {
      "text/html": [
       "<div>\n",
       "<style scoped>\n",
       "    .dataframe tbody tr th:only-of-type {\n",
       "        vertical-align: middle;\n",
       "    }\n",
       "\n",
       "    .dataframe tbody tr th {\n",
       "        vertical-align: top;\n",
       "    }\n",
       "\n",
       "    .dataframe thead th {\n",
       "        text-align: right;\n",
       "    }\n",
       "</style>\n",
       "<table border=\"1\" class=\"dataframe\">\n",
       "  <thead>\n",
       "    <tr style=\"text-align: right;\">\n",
       "      <th></th>\n",
       "      <th>Donation Purpose</th>\n",
       "      <th>Purpose Count</th>\n",
       "    </tr>\n",
       "  </thead>\n",
       "  <tbody>\n",
       "    <tr>\n",
       "      <th>0</th>\n",
       "      <td>מחקר</td>\n",
       "      <td>580</td>\n",
       "    </tr>\n",
       "    <tr>\n",
       "      <th>1</th>\n",
       "      <td>פעילות שוטפת</td>\n",
       "      <td>340</td>\n",
       "    </tr>\n",
       "    <tr>\n",
       "      <th>2</th>\n",
       "      <td>תמיכה כללית</td>\n",
       "      <td>332</td>\n",
       "    </tr>\n",
       "    <tr>\n",
       "      <th>3</th>\n",
       "      <td>קידום מטרות העמותה</td>\n",
       "      <td>328</td>\n",
       "    </tr>\n",
       "    <tr>\n",
       "      <th>4</th>\n",
       "      <td>קידום מקצועי לרשויות</td>\n",
       "      <td>169</td>\n",
       "    </tr>\n",
       "    <tr>\n",
       "      <th>...</th>\n",
       "      <td>...</td>\n",
       "      <td>...</td>\n",
       "    </tr>\n",
       "    <tr>\n",
       "      <th>4062</th>\n",
       "      <td>מיקדה למימון פרוייקט מדיה</td>\n",
       "      <td>1</td>\n",
       "    </tr>\n",
       "    <tr>\n",
       "      <th>4063</th>\n",
       "      <td>מכשיר ביוכימיה לספירת דם עבור טרם קרית גת</td>\n",
       "      <td>1</td>\n",
       "    </tr>\n",
       "    <tr>\n",
       "      <th>4064</th>\n",
       "      <td>מלגה למימון סדנאת חשיבה על פתרונות לעתיד עבור ...</td>\n",
       "      <td>1</td>\n",
       "    </tr>\n",
       "    <tr>\n",
       "      <th>4065</th>\n",
       "      <td>מלגות והכשרות</td>\n",
       "      <td>1</td>\n",
       "    </tr>\n",
       "    <tr>\n",
       "      <th>4066</th>\n",
       "      <td>עבורמסגרות יוניטף לילדים בגיל הרך: הקמת והפעלת...</td>\n",
       "      <td>1</td>\n",
       "    </tr>\n",
       "  </tbody>\n",
       "</table>\n",
       "<p>4067 rows × 2 columns</p>\n",
       "</div>"
      ],
      "text/plain": [
       "                                       Donation Purpose  Purpose Count\n",
       "0                                                  מחקר            580\n",
       "1                                          פעילות שוטפת            340\n",
       "2                                           תמיכה כללית            332\n",
       "3                                    קידום מטרות העמותה            328\n",
       "4                                  קידום מקצועי לרשויות            169\n",
       "...                                                 ...            ...\n",
       "4062                          מיקדה למימון פרוייקט מדיה              1\n",
       "4063          מכשיר ביוכימיה לספירת דם עבור טרם קרית גת              1\n",
       "4064  מלגה למימון סדנאת חשיבה על פתרונות לעתיד עבור ...              1\n",
       "4065                                      מלגות והכשרות              1\n",
       "4066  עבורמסגרות יוניטף לילדים בגיל הרך: הקמת והפעלת...              1\n",
       "\n",
       "[4067 rows x 2 columns]"
      ]
     },
     "execution_count": 11,
     "metadata": {},
     "output_type": "execute_result"
    }
   ],
   "source": [
    "##GPT CODE##\n",
    "# Group by 'Association Name' and calculate mean of 'Donation Amount' and count of 'ID'\n",
    "donation_purpose_count = data.groupby('Donation Purpose')[['ID']].count()\n",
    "\n",
    "# Rename the 'ID' column to 'Donations Count'\n",
    "donation_purpose_count.rename(columns={'ID': 'Purpose Count'}, inplace=True)\n",
    "\n",
    "# Sort by the 'Donations Count' column\n",
    "donation_purpose_count.sort_values('Purpose Count', ascending=False, inplace=True)\n",
    "\n",
    "# Reset the index\n",
    "donation_purpose_count.reset_index(inplace=True)\n",
    "\n",
    "# Get the names of donation purposes with more than 4 donations\n",
    "donation_purposes_more_than_4 = donation_purpose_count[donation_purpose_count['Purpose Count'] > 4]['Donation Purpose']\n",
    "\n",
    "# Filter the original data to include only these donation purposes\n",
    "filtered_data = data[data['Donation Purpose'].isin(donation_purposes_more_than_4)]\n",
    "\n",
    "# Print the filtered data count\n",
    "print(f\"Number of rows in the original data for donation purposes with more than 4 donations: {filtered_data.shape[0]}\")\n",
    "print(f\"Number of rows in the original data for donation purposes with 1 donation:{len(donation_purpose_count[donation_purpose_count['Purpose Count'] == 1])}\")\n",
    "# Display the dataframe\n",
    "donation_purpose_count"
   ]
  },
  {
   "cell_type": "code",
   "execution_count": 12,
   "id": "dab58bc9-8623-4c04-aafe-dca3466580ef",
   "metadata": {},
   "outputs": [],
   "source": [
    "def clear_outliers(data):\n",
    "    # Sacing data purpose that count more 4 times\n",
    "    purposes_with_at_least_four = data['Donation Purpose'].value_counts()\n",
    "    purposes_with_at_least_four = purposes_with_at_least_four[purposes_with_at_least_four > 4].index\n",
    "    \n",
    "    # filtering our df\n",
    "    data = data[data['Donation Purpose'].isin(purposes_with_at_least_four)]\n",
    "    return data"
   ]
  },
  {
   "cell_type": "code",
   "execution_count": 13,
   "id": "9a12e86e-ddec-42b1-b073-3bbe81022922",
   "metadata": {},
   "outputs": [
    {
     "name": "stderr",
     "output_type": "stream",
     "text": [
      "C:\\Users\\User\\AppData\\Local\\Temp\\ipykernel_34596\\736995564.py:3: FutureWarning: DataFrame.applymap has been deprecated. Use DataFrame.map instead.\n",
      "  data = data.applymap(lambda x: x.strip() if isinstance(x, str) else x) #this line from ##GPT##\n"
     ]
    }
   ],
   "source": [
    "# Using our funcs on our data that we will use to build our models\n",
    "model_data = prepare_data(data)\n",
    "model_data = clear_outliers(model_data)"
   ]
  },
  {
   "cell_type": "code",
   "execution_count": 14,
   "id": "873b914b-acee-4565-a651-2267dbe12aac",
   "metadata": {},
   "outputs": [
    {
     "data": {
      "text/plain": [
       "(6774, 14)"
      ]
     },
     "execution_count": 14,
     "metadata": {},
     "output_type": "execute_result"
    }
   ],
   "source": [
    "model_data.shape"
   ]
  },
  {
   "cell_type": "markdown",
   "id": "f1e3dca5-db3a-4f42-81f0-b540057ea1a5",
   "metadata": {},
   "source": [
    "## 3. Analyzing Donations Through Years"
   ]
  },
  {
   "cell_type": "markdown",
   "id": "6e33fbad-c029-4679-a330-732b62f33dab",
   "metadata": {},
   "source": [
    "### We will examine the distribution of donation size and donation quantity over the years, in order to better understand the data."
   ]
  },
  {
   "cell_type": "code",
   "execution_count": 15,
   "id": "a7ad42cf-0efb-48cb-843a-76c850c4f6be",
   "metadata": {},
   "outputs": [
    {
     "data": {
      "image/png": "[encoded data removed]",
      "text/plain": [
       "<Figure size 800x400 with 2 Axes>"
      ]
     },
     "metadata": {},
     "output_type": "display_data"
    }
   ],
   "source": [
    "# Grouping the data by year and calculating total donations and counts\n",
    "donations_summary = data.groupby('Donation Year').agg(Total_Donation_Amount=('Donation Amount', 'sum'),Donation_Count=('Donation Amount', 'count')).reset_index()\n",
    "donations_summary['Total_Donation_Amount'] /= 1_000_000  # Convert to millions\n",
    "\n",
    "# Creating the figure\n",
    "fig, ax1 = plt.subplots(figsize=(8, 4))\n",
    "\n",
    "# Line plot for donation amounts (in millions)\n",
    "ax1.plot(donations_summary['Donation Year'], donations_summary['Total_Donation_Amount'], marker='o', color='b', label='Total Donation Amount (M)')\n",
    "ax1.set_ylabel(\"Total Donation Amount (Millions)\", color='b')\n",
    "ax1.tick_params(axis='y', labelcolor='b')\n",
    "\n",
    "# Bar plot for donation counts\n",
    "ax2 = ax1.twinx()\n",
    "ax2.bar(donations_summary['Donation Year'], donations_summary['Donation_Count'], alpha=0.6, color='orange', label='Donation Count', width=0.4)\n",
    "ax2.set_ylabel(\"Donation Count\", color='orange')\n",
    "ax2.tick_params(axis='y', labelcolor='orange')\n",
    "\n",
    "# Titles and layout\n",
    "plt.title(\"Total Donations and Counts by Year\", fontsize=16)\n",
    "ax1.set_xlabel(\"Year\")\n",
    "plt.grid(axis='x', linestyle='--', alpha=0.7)\n",
    "fig.tight_layout()\n",
    "\n",
    "# Legends\n",
    "ax1.legend(loc='upper left')\n",
    "ax2.legend(loc='upper right')\n",
    "\n",
    "plt.show()"
   ]
  },
  {
   "cell_type": "markdown",
   "id": "82ea2026-22eb-432c-90bc-f3a0fe91e213",
   "metadata": {},
   "source": [
    "# 4. Building Calssification Models"
   ]
  },
  {
   "cell_type": "markdown",
   "id": "09004231-aea8-47df-93db-d05a64cfe23c",
   "metadata": {},
   "source": [
    "## 4.1 Creating X and y to our model , encoding our featuers and creating pipeline "
   ]
  },
  {
   "cell_type": "code",
   "execution_count": 16,
   "id": "3afad763-e567-443e-96ad-a30745732c96",
   "metadata": {},
   "outputs": [],
   "source": [
    "#Selecting columns to our model\n",
    "# Categorial Columns\n",
    "categorical_features = [\n",
    "    'Association Name',           \n",
    "    'Foreign Entity Name',        \n",
    "    'Currency',                   \n",
    "    'Donation Year',\n",
    "    'Donation Quarter',\n",
    "    'Type of Foreign Entity'\n",
    "]\n",
    "\n",
    "# Numerical Columns\n",
    "numerical_features = [\n",
    "    'Donation Amount'\n",
    "]"
   ]
  },
  {
   "cell_type": "code",
   "execution_count": 17,
   "id": "9152dcda-00db-49d3-bdcb-096f8ea0f145",
   "metadata": {},
   "outputs": [],
   "source": [
    "# encoding target column\n",
    "label_encoder = LabelEncoder()\n",
    "model_data['Donation Purpose Encoded'] = label_encoder.fit_transform(model_data['Donation Purpose'])\n",
    "\n",
    "# creating X and y to our model\n",
    "X = model_data[categorical_features + numerical_features]\n",
    "y = model_data['Donation Purpose Encoded']"
   ]
  },
  {
   "cell_type": "code",
   "execution_count": 18,
   "id": "25149106-2c6d-4e42-9192-6f0495790b0a",
   "metadata": {},
   "outputs": [],
   "source": [
    "# Creating our pipeline\n",
    "numerical_transformer = Pipeline(steps=[('scaler', StandardScaler())])\n",
    "categorical_transformer = Pipeline(steps=[('onehot', OneHotEncoder(handle_unknown='ignore'))])\n",
    "preprocessor = ColumnTransformer(\n",
    "    transformers=[\n",
    "        ('num', numerical_transformer, numerical_features),\n",
    "        ('cat', categorical_transformer, categorical_features)\n",
    "    ]\n",
    ")\n",
    "data_pipeline = Pipeline(steps=[('preprocessor', preprocessor)])\n",
    "X_preprocessed = data_pipeline.fit_transform(X)"
   ]
  },
  {
   "cell_type": "code",
   "execution_count": 19,
   "id": "56883a28-33f6-423f-b356-2b40384eb0e9",
   "metadata": {},
   "outputs": [],
   "source": [
    "# train test split\n",
    "X_train, X_test, y_train, y_test = train_test_split(X_preprocessed, y, test_size=0.2, random_state=42, stratify=y)\n",
    "# Stratify הפרמטר\n",
    "#נועד לשימוש בעת חלוקת הנתונים לסטי אימון ובדיקה, והוא מבטיח שהיחסים בין הקבוצות במשתנה היעד יישמרו בצורה דומה גם בסט האימון וגם בסט הבדיקה. \n",
    "#הדבר חשוב במיוחד במקרים של נתונים לא מאוזנים, כאשר חלק מהקבוצות מיוצגות פחות מאחרות.\n",
    "#בלעדיו המודלים שלנו לא פעלו"
   ]
  },
  {
   "cell_type": "markdown",
   "id": "2792e2fd-7fd7-4b86-b15f-ffe04a1bb15a",
   "metadata": {},
   "source": [
    "## 4.2 Running Our Models to Select the Best One\n",
    "\n",
    "Each model will be evaluated on the following metrics:\n",
    "- **Accuracy**\n",
    "- **Precision**\n",
    "- **Recall**\n",
    "- **F1 Score**\n",
    "\n",
    "Additionally, all models will undergo **5-Fold Cross-Validation** to ensure robust performance.\n"
   ]
  },
  {
   "cell_type": "markdown",
   "id": "542006cf-d75e-4528-a3ac-6cd44eed0356",
   "metadata": {},
   "source": [
    "### 4.2.1 Logistic Regression"
   ]
  },
  {
   "cell_type": "code",
   "execution_count": 20,
   "id": "b8bab180-ab3a-4700-a2cf-d8d971de01ff",
   "metadata": {},
   "outputs": [
    {
     "name": "stdout",
     "output_type": "stream",
     "text": [
      "Logistic Regression: Test Accuracy = 0.7978\n",
      "Logistic Regression: Test Precision (Macro) = 0.7160\n",
      "Logistic Regression: Test Recall (Macro) = 0.7009\n",
      "Logistic Regression: Test F1-Score (Macro) = 0.6943\n",
      "Linear Regression: 5-Fold Cross-Validation Mean R^2 = 0.7750\n"
     ]
    }
   ],
   "source": [
    "# Logistic Regression\n",
    "logistic_regression = LogisticRegression()\n",
    "logistic_regression.fit(X_train, y_train)\n",
    "y_pred_lr = logistic_regression.predict(X_test)\n",
    "\n",
    "# עיגול התחזיות לערכים שלמים (מתאים לרב-קטגוריאלי)\n",
    "y_pred_rounded = np.round(y_pred_lr).astype(int)\n",
    "\n",
    "# חישוב המדדים עבור סיווג רב-קטגוריאלי\n",
    "accuracy_lr = accuracy_score(y_test, y_pred_rounded)\n",
    "precision_lr = precision_score(y_test, y_pred_rounded, average='macro', zero_division=0)\n",
    "recall_lr = recall_score(y_test, y_pred_rounded, average='macro', zero_division=0)\n",
    "f1_lr = f1_score(y_test, y_pred_rounded, average='macro', zero_division=0)\n",
    "\n",
    "# הצגת התוצאות\n",
    "print(f\"Logistic Regression: Test Accuracy = {accuracy_lr:.4f}\")\n",
    "print(f\"Logistic Regression: Test Precision (Macro) = {precision_lr:.4f}\")\n",
    "print(f\"Logistic Regression: Test Recall (Macro) = {recall_lr:.4f}\")\n",
    "print(f\"Logistic Regression: Test F1-Score (Macro) = {f1_lr:.4f}\")\n",
    "\n",
    "# Perform 5-Fold Cross Validation\n",
    "cv_scores_lr = cross_val_score(logistic_regression, X_train, y_train, cv=5, scoring='accuracy')\n",
    "mean_cv_score_lr = np.mean(cv_scores_lr)\n",
    "print(f\"Linear Regression: 5-Fold Cross-Validation Mean R^2 = {mean_cv_score_lr:.4f}\")"
   ]
  },
  {
   "cell_type": "markdown",
   "id": "1ed2724a-086f-475d-a601-6c04f0ec627d",
   "metadata": {},
   "source": [
    "### 4.2.2 Random Forest"
   ]
  },
  {
   "cell_type": "code",
   "execution_count": 21,
   "id": "555cab4c-4b45-4c8a-882e-be711e6ac1ec",
   "metadata": {},
   "outputs": [
    {
     "name": "stdout",
     "output_type": "stream",
     "text": [
      "Random Forest: Test Accuracy = 0.8125\n",
      "Random Forest: Test Precision (Macro) = 0.7416\n",
      "Random Forest: Test Recall (Macro) = 0.7526\n",
      "Random Forest: Test F1-Score (Macro) = 0.7309\n",
      "Random Forest: 5-Fold Cross-Validation Mean Accuracy = 0.7989\n"
     ]
    }
   ],
   "source": [
    "# Random Forest\n",
    "random_forest = RandomForestClassifier(random_state=42)\n",
    "random_forest.fit(X_train, y_train)\n",
    "y_pred_rf = random_forest.predict(X_test)\n",
    "\n",
    "# חישוב המדדים\n",
    "accuracy_rf = accuracy_score(y_test, y_pred_rf)\n",
    "precision_rf = precision_score(y_test, y_pred_rf, average='macro', zero_division=0)\n",
    "recall_rf = recall_score(y_test, y_pred_rf, average='macro', zero_division=0)\n",
    "f1_rf = f1_score(y_test, y_pred_rf, average='macro', zero_division=0)\n",
    "\n",
    "# הצגת תוצאות המדדים\n",
    "print(f\"Random Forest: Test Accuracy = {accuracy_rf:.4f}\")\n",
    "print(f\"Random Forest: Test Precision (Macro) = {precision_rf:.4f}\")\n",
    "print(f\"Random Forest: Test Recall (Macro) = {recall_rf:.4f}\")\n",
    "print(f\"Random Forest: Test F1-Score (Macro) = {f1_rf:.4f}\")\n",
    "\n",
    "# Perform 5-Fold Cross Validation\n",
    "cv_scores_rf = cross_val_score(random_forest, X_train, y_train, cv=5, scoring='accuracy')\n",
    "mean_accuracy_rf = np.mean(cv_scores_rf)\n",
    "\n",
    "print(f\"Random Forest: 5-Fold Cross-Validation Mean Accuracy = {mean_accuracy_rf:.4f}\")"
   ]
  },
  {
   "cell_type": "markdown",
   "id": "5125fce2-5241-4590-b97c-f69b018f9041",
   "metadata": {},
   "source": [
    "### 4.2.3 XGBoost"
   ]
  },
  {
   "cell_type": "code",
   "execution_count": 22,
   "id": "32acf541-b5e7-4a47-9bc6-b2fc477a25d2",
   "metadata": {
    "scrolled": true
   },
   "outputs": [
    {
     "name": "stdout",
     "output_type": "stream",
     "text": [
      "XGBoost: Test Accuracy = 0.7875\n",
      "XGBoost: Test Precision (Macro) = 0.7402\n",
      "XGBoost: Test Recall (Macro) = 0.7318\n",
      "XGBoost: Test F1-Score (Macro) = 0.7206\n",
      "XGBoost: 5-Fold Cross-Validation Mean Accuracy = 0.7568\n"
     ]
    }
   ],
   "source": [
    "# XGBoost\n",
    "xgboost_model = XGBClassifier(random_state=42, use_label_encoder=False, eval_metric='logloss')\n",
    "xgboost_model.fit(X_train, y_train)\n",
    "y_pred_xgb = xgboost_model.predict(X_test)\n",
    "\n",
    "# חישוב המדדים\n",
    "accuracy_xgb = accuracy_score(y_test, y_pred_xgb)\n",
    "precision_xgb = precision_score(y_test, y_pred_xgb, average='macro', zero_division=0)\n",
    "recall_xgb = recall_score(y_test, y_pred_xgb, average='macro', zero_division=0)\n",
    "f1_xgb = f1_score(y_test, y_pred_xgb, average='macro', zero_division=0)\n",
    "\n",
    "# הצגת התוצאות\n",
    "print(f\"XGBoost: Test Accuracy = {accuracy_xgb:.4f}\")\n",
    "print(f\"XGBoost: Test Precision (Macro) = {precision_xgb:.4f}\")\n",
    "print(f\"XGBoost: Test Recall (Macro) = {recall_xgb:.4f}\")\n",
    "print(f\"XGBoost: Test F1-Score (Macro) = {f1_xgb:.4f}\")\n",
    "\n",
    "# Perform 5-Fold Cross Validation\n",
    "cv_scores_xgb = cross_val_score(xgboost_model, X_train, y_train, cv=5, scoring='accuracy')\n",
    "mean_accuracy_xgb = np.mean(cv_scores_xgb)\n",
    "print(f\"XGBoost: 5-Fold Cross-Validation Mean Accuracy = {mean_accuracy_xgb:.4f}\")"
   ]
  },
  {
   "cell_type": "markdown",
   "id": "cf7ca2a3-8d3b-455c-88cc-5b60c6ef7cff",
   "metadata": {},
   "source": [
    "### 4.2.4 SVM"
   ]
  },
  {
   "cell_type": "code",
   "execution_count": 23,
   "id": "43b4b303-100c-4c4e-957e-1291d7c1068d",
   "metadata": {},
   "outputs": [
    {
     "name": "stdout",
     "output_type": "stream",
     "text": [
      "SVM: Test Accuracy = 0.7432\n",
      "SVM: Test Precision (Macro) = 0.5760\n",
      "SVM: Test Recall (Macro) = 0.5581\n",
      "SVM: Test F1-Score (Macro) = 0.5516\n",
      "SVM: 5-Fold Cross-Validation Mean Accuracy = 0.6885\n"
     ]
    }
   ],
   "source": [
    "# SVM\n",
    "svm = SVC(probability=True, random_state=42)\n",
    "svm.fit(X_train, y_train)\n",
    "y_pred_svm = svm.predict(X_test)\n",
    "\n",
    "# חישוב המדדים\n",
    "accuracy_svm = accuracy_score(y_test, y_pred_svm)\n",
    "precision_svm = precision_score(y_test, y_pred_svm, average='macro', zero_division=0)\n",
    "recall_svm = recall_score(y_test, y_pred_svm, average='macro', zero_division=0)\n",
    "f1_svm = f1_score(y_test, y_pred_svm, average='macro', zero_division=0)\n",
    "\n",
    "# הצגת התוצאות\n",
    "print(f\"SVM: Test Accuracy = {accuracy_svm:.4f}\")\n",
    "print(f\"SVM: Test Precision (Macro) = {precision_svm:.4f}\")\n",
    "print(f\"SVM: Test Recall (Macro) = {recall_svm:.4f}\")\n",
    "print(f\"SVM: Test F1-Score (Macro) = {f1_svm:.4f}\")\n",
    "\n",
    "# Perform 5-Fold Cross Validation\n",
    "cv_scores_svm = cross_val_score(svm, X_train, y_train, cv=5, scoring='accuracy')\n",
    "mean_accuracy_svm = np.mean(cv_scores_svm)\n",
    "print(f\"SVM: 5-Fold Cross-Validation Mean Accuracy = {mean_accuracy_svm:.4f}\")"
   ]
  },
  {
   "cell_type": "markdown",
   "id": "b2d7102f-e2bc-4028-a539-9152ebc8fec2",
   "metadata": {},
   "source": [
    "### 4.2.5 KNN"
   ]
  },
  {
   "cell_type": "code",
   "execution_count": 24,
   "id": "5ccbb70a-30e5-48de-ba3e-467b8db98314",
   "metadata": {},
   "outputs": [
    {
     "name": "stdout",
     "output_type": "stream",
     "text": [
      "KNN: Test Accuracy = 0.6982\n",
      "KNN: Test Precision (Macro) = 0.5785\n",
      "KNN: Test Recall (Macro) = 0.6243\n",
      "KNN: Test F1-Score (Macro) = 0.5790\n",
      "KNN: 5-Fold Cross-Validation Mean Accuracy = 0.6691\n"
     ]
    }
   ],
   "source": [
    "# KNN\n",
    "knn = KNeighborsClassifier()\n",
    "knn.fit(X_train, y_train)\n",
    "y_pred_knn = knn.predict(X_test)\n",
    "\n",
    "# חישוב המדדים\n",
    "accuracy_knn = accuracy_score(y_test, y_pred_knn)\n",
    "precision_knn = precision_score(y_test, y_pred_knn, average='macro', zero_division=0)\n",
    "recall_knn = recall_score(y_test, y_pred_knn, average='macro', zero_division=0)\n",
    "f1_knn = f1_score(y_test, y_pred_knn, average='macro', zero_division=0)\n",
    "\n",
    "# הצגת התוצאות\n",
    "print(f\"KNN: Test Accuracy = {accuracy_knn:.4f}\")\n",
    "print(f\"KNN: Test Precision (Macro) = {precision_knn:.4f}\")\n",
    "print(f\"KNN: Test Recall (Macro) = {recall_knn:.4f}\")\n",
    "print(f\"KNN: Test F1-Score (Macro) = {f1_knn:.4f}\")\n",
    "\n",
    "# Perform 5-Fold Cross Validation\n",
    "cv_scores_knn = cross_val_score(knn, X_train, y_train, cv=5, scoring='accuracy')\n",
    "mean_accuracy_knn = np.mean(cv_scores_knn)\n",
    "print(f\"KNN: 5-Fold Cross-Validation Mean Accuracy = {mean_accuracy_knn:.4f}\")"
   ]
  },
  {
   "cell_type": "markdown",
   "id": "0de5644c-dbfd-4b4b-9838-a8a34dcaa446",
   "metadata": {},
   "source": [
    "<h2>Our best model is <span style=\"color: green;\">Random Forest</span> with <span style=\"color: green;\">80% accuracy score</span>. (score after 5 fold cv)</h2>"
   ]
  },
  {
   "cell_type": "markdown",
   "id": "3f499a5d-f4b4-49d0-bae9-304bab0db4bd",
   "metadata": {},
   "source": [
    "## 4.3 Training our chosen model on the whole dataset and checking our feature importance"
   ]
  },
  {
   "cell_type": "markdown",
   "id": "7953791e-2fed-457c-b970-856649d25db3",
   "metadata": {},
   "source": [
    "### 4.3.1 Creating our full random forest model"
   ]
  },
  {
   "cell_type": "code",
   "execution_count": 25,
   "id": "636f15b5-1f3a-4da6-a227-c442e773a9b5",
   "metadata": {},
   "outputs": [
    {
     "data": {
      "text/html": [
       "<style>#sk-container-id-1 {\n",
       "  /* Definition of color scheme common for light and dark mode */\n",
       "  --sklearn-color-text: black;\n",
       "  --sklearn-color-line: gray;\n",
       "  /* Definition of color scheme for unfitted estimators */\n",
       "  --sklearn-color-unfitted-level-0: #fff5e6;\n",
       "  --sklearn-color-unfitted-level-1: #f6e4d2;\n",
       "  --sklearn-color-unfitted-level-2: #ffe0b3;\n",
       "  --sklearn-color-unfitted-level-3: chocolate;\n",
       "  /* Definition of color scheme for fitted estimators */\n",
       "  --sklearn-color-fitted-level-0: #f0f8ff;\n",
       "  --sklearn-color-fitted-level-1: #d4ebff;\n",
       "  --sklearn-color-fitted-level-2: #b3dbfd;\n",
       "  --sklearn-color-fitted-level-3: cornflowerblue;\n",
       "\n",
       "  /* Specific color for light theme */\n",
       "  --sklearn-color-text-on-default-background: var(--sg-text-color, var(--theme-code-foreground, var(--jp-content-font-color1, black)));\n",
       "  --sklearn-color-background: var(--sg-background-color, var(--theme-background, var(--jp-layout-color0, white)));\n",
       "  --sklearn-color-border-box: var(--sg-text-color, var(--theme-code-foreground, var(--jp-content-font-color1, black)));\n",
       "  --sklearn-color-icon: #696969;\n",
       "\n",
       "  @media (prefers-color-scheme: dark) {\n",
       "    /* Redefinition of color scheme for dark theme */\n",
       "    --sklearn-color-text-on-default-background: var(--sg-text-color, var(--theme-code-foreground, var(--jp-content-font-color1, white)));\n",
       "    --sklearn-color-background: var(--sg-background-color, var(--theme-background, var(--jp-layout-color0, #111)));\n",
       "    --sklearn-color-border-box: var(--sg-text-color, var(--theme-code-foreground, var(--jp-content-font-color1, white)));\n",
       "    --sklearn-color-icon: #878787;\n",
       "  }\n",
       "}\n",
       "\n",
       "#sk-container-id-1 {\n",
       "  color: var(--sklearn-color-text);\n",
       "}\n",
       "\n",
       "#sk-container-id-1 pre {\n",
       "  padding: 0;\n",
       "}\n",
       "\n",
       "#sk-container-id-1 input.sk-hidden--visually {\n",
       "  border: 0;\n",
       "  clip: rect(1px 1px 1px 1px);\n",
       "  clip: rect(1px, 1px, 1px, 1px);\n",
       "  height: 1px;\n",
       "  margin: -1px;\n",
       "  overflow: hidden;\n",
       "  padding: 0;\n",
       "  position: absolute;\n",
       "  width: 1px;\n",
       "}\n",
       "\n",
       "#sk-container-id-1 div.sk-dashed-wrapped {\n",
       "  border: 1px dashed var(--sklearn-color-line);\n",
       "  margin: 0 0.4em 0.5em 0.4em;\n",
       "  box-sizing: border-box;\n",
       "  padding-bottom: 0.4em;\n",
       "  background-color: var(--sklearn-color-background);\n",
       "}\n",
       "\n",
       "#sk-container-id-1 div.sk-container {\n",
       "  /* jupyter's `normalize.less` sets `[hidden] { display: none; }`\n",
       "     but bootstrap.min.css set `[hidden] { display: none !important; }`\n",
       "     so we also need the `!important` here to be able to override the\n",
       "     default hidden behavior on the sphinx rendered scikit-learn.org.\n",
       "     See: https://github.com/scikit-learn/scikit-learn/issues/21755 */\n",
       "  display: inline-block !important;\n",
       "  position: relative;\n",
       "}\n",
       "\n",
       "#sk-container-id-1 div.sk-text-repr-fallback {\n",
       "  display: none;\n",
       "}\n",
       "\n",
       "div.sk-parallel-item,\n",
       "div.sk-serial,\n",
       "div.sk-item {\n",
       "  /* draw centered vertical line to link estimators */\n",
       "  background-image: linear-gradient(var(--sklearn-color-text-on-default-background), var(--sklearn-color-text-on-default-background));\n",
       "  background-size: 2px 100%;\n",
       "  background-repeat: no-repeat;\n",
       "  background-position: center center;\n",
       "}\n",
       "\n",
       "/* Parallel-specific style estimator block */\n",
       "\n",
       "#sk-container-id-1 div.sk-parallel-item::after {\n",
       "  content: \"\";\n",
       "  width: 100%;\n",
       "  border-bottom: 2px solid var(--sklearn-color-text-on-default-background);\n",
       "  flex-grow: 1;\n",
       "}\n",
       "\n",
       "#sk-container-id-1 div.sk-parallel {\n",
       "  display: flex;\n",
       "  align-items: stretch;\n",
       "  justify-content: center;\n",
       "  background-color: var(--sklearn-color-background);\n",
       "  position: relative;\n",
       "}\n",
       "\n",
       "#sk-container-id-1 div.sk-parallel-item {\n",
       "  display: flex;\n",
       "  flex-direction: column;\n",
       "}\n",
       "\n",
       "#sk-container-id-1 div.sk-parallel-item:first-child::after {\n",
       "  align-self: flex-end;\n",
       "  width: 50%;\n",
       "}\n",
       "\n",
       "#sk-container-id-1 div.sk-parallel-item:last-child::after {\n",
       "  align-self: flex-start;\n",
       "  width: 50%;\n",
       "}\n",
       "\n",
       "#sk-container-id-1 div.sk-parallel-item:only-child::after {\n",
       "  width: 0;\n",
       "}\n",
       "\n",
       "/* Serial-specific style estimator block */\n",
       "\n",
       "#sk-container-id-1 div.sk-serial {\n",
       "  display: flex;\n",
       "  flex-direction: column;\n",
       "  align-items: center;\n",
       "  background-color: var(--sklearn-color-background);\n",
       "  padding-right: 1em;\n",
       "  padding-left: 1em;\n",
       "}\n",
       "\n",
       "\n",
       "/* Toggleable style: style used for estimator/Pipeline/ColumnTransformer box that is\n",
       "clickable and can be expanded/collapsed.\n",
       "- Pipeline and ColumnTransformer use this feature and define the default style\n",
       "- Estimators will overwrite some part of the style using the `sk-estimator` class\n",
       "*/\n",
       "\n",
       "/* Pipeline and ColumnTransformer style (default) */\n",
       "\n",
       "#sk-container-id-1 div.sk-toggleable {\n",
       "  /* Default theme specific background. It is overwritten whether we have a\n",
       "  specific estimator or a Pipeline/ColumnTransformer */\n",
       "  background-color: var(--sklearn-color-background);\n",
       "}\n",
       "\n",
       "/* Toggleable label */\n",
       "#sk-container-id-1 label.sk-toggleable__label {\n",
       "  cursor: pointer;\n",
       "  display: block;\n",
       "  width: 100%;\n",
       "  margin-bottom: 0;\n",
       "  padding: 0.5em;\n",
       "  box-sizing: border-box;\n",
       "  text-align: center;\n",
       "}\n",
       "\n",
       "#sk-container-id-1 label.sk-toggleable__label-arrow:before {\n",
       "  /* Arrow on the left of the label */\n",
       "  content: \"▸\";\n",
       "  float: left;\n",
       "  margin-right: 0.25em;\n",
       "  color: var(--sklearn-color-icon);\n",
       "}\n",
       "\n",
       "#sk-container-id-1 label.sk-toggleable__label-arrow:hover:before {\n",
       "  color: var(--sklearn-color-text);\n",
       "}\n",
       "\n",
       "/* Toggleable content - dropdown */\n",
       "\n",
       "#sk-container-id-1 div.sk-toggleable__content {\n",
       "  max-height: 0;\n",
       "  max-width: 0;\n",
       "  overflow: hidden;\n",
       "  text-align: left;\n",
       "  /* unfitted */\n",
       "  background-color: var(--sklearn-color-unfitted-level-0);\n",
       "}\n",
       "\n",
       "#sk-container-id-1 div.sk-toggleable__content.fitted {\n",
       "  /* fitted */\n",
       "  background-color: var(--sklearn-color-fitted-level-0);\n",
       "}\n",
       "\n",
       "#sk-container-id-1 div.sk-toggleable__content pre {\n",
       "  margin: 0.2em;\n",
       "  border-radius: 0.25em;\n",
       "  color: var(--sklearn-color-text);\n",
       "  /* unfitted */\n",
       "  background-color: var(--sklearn-color-unfitted-level-0);\n",
       "}\n",
       "\n",
       "#sk-container-id-1 div.sk-toggleable__content.fitted pre {\n",
       "  /* unfitted */\n",
       "  background-color: var(--sklearn-color-fitted-level-0);\n",
       "}\n",
       "\n",
       "#sk-container-id-1 input.sk-toggleable__control:checked~div.sk-toggleable__content {\n",
       "  /* Expand drop-down */\n",
       "  max-height: 200px;\n",
       "  max-width: 100%;\n",
       "  overflow: auto;\n",
       "}\n",
       "\n",
       "#sk-container-id-1 input.sk-toggleable__control:checked~label.sk-toggleable__label-arrow:before {\n",
       "  content: \"▾\";\n",
       "}\n",
       "\n",
       "/* Pipeline/ColumnTransformer-specific style */\n",
       "\n",
       "#sk-container-id-1 div.sk-label input.sk-toggleable__control:checked~label.sk-toggleable__label {\n",
       "  color: var(--sklearn-color-text);\n",
       "  background-color: var(--sklearn-color-unfitted-level-2);\n",
       "}\n",
       "\n",
       "#sk-container-id-1 div.sk-label.fitted input.sk-toggleable__control:checked~label.sk-toggleable__label {\n",
       "  background-color: var(--sklearn-color-fitted-level-2);\n",
       "}\n",
       "\n",
       "/* Estimator-specific style */\n",
       "\n",
       "/* Colorize estimator box */\n",
       "#sk-container-id-1 div.sk-estimator input.sk-toggleable__control:checked~label.sk-toggleable__label {\n",
       "  /* unfitted */\n",
       "  background-color: var(--sklearn-color-unfitted-level-2);\n",
       "}\n",
       "\n",
       "#sk-container-id-1 div.sk-estimator.fitted input.sk-toggleable__control:checked~label.sk-toggleable__label {\n",
       "  /* fitted */\n",
       "  background-color: var(--sklearn-color-fitted-level-2);\n",
       "}\n",
       "\n",
       "#sk-container-id-1 div.sk-label label.sk-toggleable__label,\n",
       "#sk-container-id-1 div.sk-label label {\n",
       "  /* The background is the default theme color */\n",
       "  color: var(--sklearn-color-text-on-default-background);\n",
       "}\n",
       "\n",
       "/* On hover, darken the color of the background */\n",
       "#sk-container-id-1 div.sk-label:hover label.sk-toggleable__label {\n",
       "  color: var(--sklearn-color-text);\n",
       "  background-color: var(--sklearn-color-unfitted-level-2);\n",
       "}\n",
       "\n",
       "/* Label box, darken color on hover, fitted */\n",
       "#sk-container-id-1 div.sk-label.fitted:hover label.sk-toggleable__label.fitted {\n",
       "  color: var(--sklearn-color-text);\n",
       "  background-color: var(--sklearn-color-fitted-level-2);\n",
       "}\n",
       "\n",
       "/* Estimator label */\n",
       "\n",
       "#sk-container-id-1 div.sk-label label {\n",
       "  font-family: monospace;\n",
       "  font-weight: bold;\n",
       "  display: inline-block;\n",
       "  line-height: 1.2em;\n",
       "}\n",
       "\n",
       "#sk-container-id-1 div.sk-label-container {\n",
       "  text-align: center;\n",
       "}\n",
       "\n",
       "/* Estimator-specific */\n",
       "#sk-container-id-1 div.sk-estimator {\n",
       "  font-family: monospace;\n",
       "  border: 1px dotted var(--sklearn-color-border-box);\n",
       "  border-radius: 0.25em;\n",
       "  box-sizing: border-box;\n",
       "  margin-bottom: 0.5em;\n",
       "  /* unfitted */\n",
       "  background-color: var(--sklearn-color-unfitted-level-0);\n",
       "}\n",
       "\n",
       "#sk-container-id-1 div.sk-estimator.fitted {\n",
       "  /* fitted */\n",
       "  background-color: var(--sklearn-color-fitted-level-0);\n",
       "}\n",
       "\n",
       "/* on hover */\n",
       "#sk-container-id-1 div.sk-estimator:hover {\n",
       "  /* unfitted */\n",
       "  background-color: var(--sklearn-color-unfitted-level-2);\n",
       "}\n",
       "\n",
       "#sk-container-id-1 div.sk-estimator.fitted:hover {\n",
       "  /* fitted */\n",
       "  background-color: var(--sklearn-color-fitted-level-2);\n",
       "}\n",
       "\n",
       "/* Specification for estimator info (e.g. \"i\" and \"?\") */\n",
       "\n",
       "/* Common style for \"i\" and \"?\" */\n",
       "\n",
       ".sk-estimator-doc-link,\n",
       "a:link.sk-estimator-doc-link,\n",
       "a:visited.sk-estimator-doc-link {\n",
       "  float: right;\n",
       "  font-size: smaller;\n",
       "  line-height: 1em;\n",
       "  font-family: monospace;\n",
       "  background-color: var(--sklearn-color-background);\n",
       "  border-radius: 1em;\n",
       "  height: 1em;\n",
       "  width: 1em;\n",
       "  text-decoration: none !important;\n",
       "  margin-left: 1ex;\n",
       "  /* unfitted */\n",
       "  border: var(--sklearn-color-unfitted-level-1) 1pt solid;\n",
       "  color: var(--sklearn-color-unfitted-level-1);\n",
       "}\n",
       "\n",
       ".sk-estimator-doc-link.fitted,\n",
       "a:link.sk-estimator-doc-link.fitted,\n",
       "a:visited.sk-estimator-doc-link.fitted {\n",
       "  /* fitted */\n",
       "  border: var(--sklearn-color-fitted-level-1) 1pt solid;\n",
       "  color: var(--sklearn-color-fitted-level-1);\n",
       "}\n",
       "\n",
       "/* On hover */\n",
       "div.sk-estimator:hover .sk-estimator-doc-link:hover,\n",
       ".sk-estimator-doc-link:hover,\n",
       "div.sk-label-container:hover .sk-estimator-doc-link:hover,\n",
       ".sk-estimator-doc-link:hover {\n",
       "  /* unfitted */\n",
       "  background-color: var(--sklearn-color-unfitted-level-3);\n",
       "  color: var(--sklearn-color-background);\n",
       "  text-decoration: none;\n",
       "}\n",
       "\n",
       "div.sk-estimator.fitted:hover .sk-estimator-doc-link.fitted:hover,\n",
       ".sk-estimator-doc-link.fitted:hover,\n",
       "div.sk-label-container:hover .sk-estimator-doc-link.fitted:hover,\n",
       ".sk-estimator-doc-link.fitted:hover {\n",
       "  /* fitted */\n",
       "  background-color: var(--sklearn-color-fitted-level-3);\n",
       "  color: var(--sklearn-color-background);\n",
       "  text-decoration: none;\n",
       "}\n",
       "\n",
       "/* Span, style for the box shown on hovering the info icon */\n",
       ".sk-estimator-doc-link span {\n",
       "  display: none;\n",
       "  z-index: 9999;\n",
       "  position: relative;\n",
       "  font-weight: normal;\n",
       "  right: .2ex;\n",
       "  padding: .5ex;\n",
       "  margin: .5ex;\n",
       "  width: min-content;\n",
       "  min-width: 20ex;\n",
       "  max-width: 50ex;\n",
       "  color: var(--sklearn-color-text);\n",
       "  box-shadow: 2pt 2pt 4pt #999;\n",
       "  /* unfitted */\n",
       "  background: var(--sklearn-color-unfitted-level-0);\n",
       "  border: .5pt solid var(--sklearn-color-unfitted-level-3);\n",
       "}\n",
       "\n",
       ".sk-estimator-doc-link.fitted span {\n",
       "  /* fitted */\n",
       "  background: var(--sklearn-color-fitted-level-0);\n",
       "  border: var(--sklearn-color-fitted-level-3);\n",
       "}\n",
       "\n",
       ".sk-estimator-doc-link:hover span {\n",
       "  display: block;\n",
       "}\n",
       "\n",
       "/* \"?\"-specific style due to the `<a>` HTML tag */\n",
       "\n",
       "#sk-container-id-1 a.estimator_doc_link {\n",
       "  float: right;\n",
       "  font-size: 1rem;\n",
       "  line-height: 1em;\n",
       "  font-family: monospace;\n",
       "  background-color: var(--sklearn-color-background);\n",
       "  border-radius: 1rem;\n",
       "  height: 1rem;\n",
       "  width: 1rem;\n",
       "  text-decoration: none;\n",
       "  /* unfitted */\n",
       "  color: var(--sklearn-color-unfitted-level-1);\n",
       "  border: var(--sklearn-color-unfitted-level-1) 1pt solid;\n",
       "}\n",
       "\n",
       "#sk-container-id-1 a.estimator_doc_link.fitted {\n",
       "  /* fitted */\n",
       "  border: var(--sklearn-color-fitted-level-1) 1pt solid;\n",
       "  color: var(--sklearn-color-fitted-level-1);\n",
       "}\n",
       "\n",
       "/* On hover */\n",
       "#sk-container-id-1 a.estimator_doc_link:hover {\n",
       "  /* unfitted */\n",
       "  background-color: var(--sklearn-color-unfitted-level-3);\n",
       "  color: var(--sklearn-color-background);\n",
       "  text-decoration: none;\n",
       "}\n",
       "\n",
       "#sk-container-id-1 a.estimator_doc_link.fitted:hover {\n",
       "  /* fitted */\n",
       "  background-color: var(--sklearn-color-fitted-level-3);\n",
       "}\n",
       "</style><div id=\"sk-container-id-1\" class=\"sk-top-container\"><div class=\"sk-text-repr-fallback\"><pre>RandomForestClassifier(random_state=42)</pre><b>In a Jupyter environment, please rerun this cell to show the HTML representation or trust the notebook. <br />On GitHub, the HTML representation is unable to render, please try loading this page with nbviewer.org.</b></div><div class=\"sk-container\" hidden><div class=\"sk-item\"><div class=\"sk-estimator fitted sk-toggleable\"><input class=\"sk-toggleable__control sk-hidden--visually\" id=\"sk-estimator-id-1\" type=\"checkbox\" checked><label for=\"sk-estimator-id-1\" class=\"sk-toggleable__label fitted sk-toggleable__label-arrow fitted\">&nbsp;&nbsp;RandomForestClassifier<a class=\"sk-estimator-doc-link fitted\" rel=\"noreferrer\" target=\"_blank\" href=\"https://scikit-learn.org/1.4/modules/generated/sklearn.ensemble.RandomForestClassifier.html\">?<span>Documentation for RandomForestClassifier</span></a><span class=\"sk-estimator-doc-link fitted\">i<span>Fitted</span></span></label><div class=\"sk-toggleable__content fitted\"><pre>RandomForestClassifier(random_state=42)</pre></div> </div></div></div></div>"
      ],
      "text/plain": [
       "RandomForestClassifier(random_state=42)"
      ]
     },
     "execution_count": 25,
     "metadata": {},
     "output_type": "execute_result"
    }
   ],
   "source": [
    "# Creating Random Forest model\n",
    "random_forest_full = RandomForestClassifier(random_state=42)\n",
    "X = X_train \n",
    "y = y_train \n",
    "random_forest_full.fit(X, y)"
   ]
  },
  {
   "cell_type": "markdown",
   "id": "0481761d-fa63-4004-8d14-3020ad23ae3a",
   "metadata": {},
   "source": [
    "### 4.3.2 Feature Importance"
   ]
  },
  {
   "cell_type": "code",
   "execution_count": 26,
   "id": "8b9ddfc7-ae18-4ff1-af3a-1b60cd6f08f7",
   "metadata": {},
   "outputs": [
    {
     "data": {
      "image/png": "[encoded data removed]",
      "text/plain": [
       "<Figure size 1000x400 with 1 Axes>"
      ]
     },
     "metadata": {},
     "output_type": "display_data"
    }
   ],
   "source": [
    "# getting encoder feature names\n",
    "feature_names_num = numerical_features\n",
    "feature_names_cat = data_pipeline.named_steps['preprocessor'].transformers_[1][1].named_steps['onehot'].get_feature_names_out() ##GPT Line###\n",
    "feature_names = list(feature_names_num) + list(feature_names_cat)\n",
    "\n",
    "# calcualting our feature importance\n",
    "importances = random_forest.feature_importances_\n",
    "\n",
    "# creating df with the feature importance \n",
    "importance_df = pd.DataFrame({'Feature': feature_names,'Importance': importances})\n",
    "\n",
    "# sorting our feature \n",
    "importance_df = importance_df.sort_values(by='Importance', ascending=False)\n",
    "\n",
    "#selecting only our top 10 features \n",
    "top_10_features = importance_df.head(10)\n",
    "\n",
    "#creating a plot\n",
    "##GPT##\n",
    "plt.figure(figsize=(10,4))\n",
    "sns.barplot(x=top_10_features['Importance'], y=top_10_features['Feature'])\n",
    "plt.title('Top 10 Feature Importance - Random Forest')\n",
    "plt.xlabel('Importance')\n",
    "plt.ylabel('Feature')\n",
    "plt.tight_layout()\n",
    "plt.show()"
   ]
  },
  {
   "cell_type": "markdown",
   "id": "7e961030-5f9c-4912-b535-f51088feba4e",
   "metadata": {},
   "source": [
    "# 5. Cluster Analysis\n",
    "\n",
    "## Models Used:\n",
    "1. **K-Means**\n",
    "2. **DBSCAN**\n"
   ]
  },
  {
   "cell_type": "code",
   "execution_count": 27,
   "id": "0b1d7ebd-7d11-4eef-98b8-6ab24c3107d1",
   "metadata": {},
   "outputs": [
    {
     "name": "stderr",
     "output_type": "stream",
     "text": [
      "C:\\Users\\User\\AppData\\Local\\Temp\\ipykernel_34596\\736995564.py:3: FutureWarning: DataFrame.applymap has been deprecated. Use DataFrame.map instead.\n",
      "  data = data.applymap(lambda x: x.strip() if isinstance(x, str) else x) #this line from ##GPT##\n"
     ]
    }
   ],
   "source": [
    "#using our functions on our unsupervised data\n",
    "unsupervised_data = prepare_data(data)\n",
    "unsupervised_data = clear_outliers(unsupervised_data)"
   ]
  },
  {
   "cell_type": "code",
   "execution_count": 28,
   "id": "a1d64d75-eda6-44f1-8dc6-5a5931368e3c",
   "metadata": {},
   "outputs": [
    {
     "data": {
      "text/plain": [
       "(6774, 14)"
      ]
     },
     "execution_count": 28,
     "metadata": {},
     "output_type": "execute_result"
    }
   ],
   "source": [
    "unsupervised_data.shape"
   ]
  },
  {
   "cell_type": "code",
   "execution_count": 29,
   "id": "dc0a9b1d-1f5b-44ac-93f4-2ce97aca6439",
   "metadata": {},
   "outputs": [
    {
     "data": {
      "text/plain": [
       "ID                                  0\n",
       "Association Number                  0\n",
       "Association Name                    0\n",
       "Donation Receipt Date               0\n",
       "Foreign Entity Name                 0\n",
       "Type of Foreign Entity              0\n",
       "Donation Amount                     0\n",
       "Currency                            0\n",
       "Exchange Rate                       0\n",
       "Donation Purpose                    0\n",
       "Donation Conditions                 0\n",
       "Donation Year                       0\n",
       "Donation Quarter                    0\n",
       "Main Funding from Foreign Entity    0\n",
       "dtype: int64"
      ]
     },
     "execution_count": 29,
     "metadata": {},
     "output_type": "execute_result"
    }
   ],
   "source": [
    "unsupervised_data.isnull().sum()"
   ]
  },
  {
   "cell_type": "code",
   "execution_count": 30,
   "id": "79b392a9-b1c8-4232-8fec-f000fd89bfe8",
   "metadata": {},
   "outputs": [],
   "source": [
    "#choosing our 2 main features that we will use in our cluster\n",
    "features = ['Donation Amount', 'Donation Year']\n",
    "clustering_data = unsupervised_data[features]\n",
    "\n",
    "# scaling our clustering data\n",
    "scaler = StandardScaler()\n",
    "scaled_data = scaler.fit_transform(clustering_data)"
   ]
  },
  {
   "cell_type": "markdown",
   "id": "b16cdb45-7917-4daf-a588-4bde7eb7e0d0",
   "metadata": {},
   "source": [
    "## 5.1 K-Means"
   ]
  },
  {
   "cell_type": "markdown",
   "id": "07333052-a704-4a7a-95d6-18e54702097e",
   "metadata": {},
   "source": [
    "## 5.1.1 Finding Optimal K"
   ]
  },
  {
   "cell_type": "markdown",
   "id": "f75a2b52-0b6f-488d-823c-3014574eee4c",
   "metadata": {},
   "source": [
    "### Elbow Method"
   ]
  },
  {
   "cell_type": "code",
   "execution_count": 31,
   "id": "6635c0b7-b364-4db6-807d-ba7ea4968dfb",
   "metadata": {},
   "outputs": [
    {
     "data": {
      "image/png": "[encoded data removed]",
      "text/plain": [
       "<Figure size 640x480 with 1 Axes>"
      ]
     },
     "metadata": {},
     "output_type": "display_data"
    }
   ],
   "source": [
    "# building our clusters range\n",
    "inertia = []\n",
    "range_clusters = range(2, 11)\n",
    "\n",
    "#running our score for each k\n",
    "for k in range_clusters:\n",
    "    kmeans = KMeans(n_clusters=k, random_state=42)\n",
    "    kmeans.fit(scaled_data)\n",
    "    inertia.append(kmeans.inertia_)\n",
    "\n",
    "# viewing our result in lineplot\n",
    "##GPT##\n",
    "plt.figure()\n",
    "plt.plot(range_clusters, inertia, marker='o')\n",
    "plt.title('Elbow Method for Optimal Clusters')\n",
    "plt.xlabel('Number of Clusters')\n",
    "plt.ylabel('Inertia')\n",
    "plt.show()"
   ]
  },
  {
   "cell_type": "markdown",
   "id": "f49aa516-6e20-4aab-927e-f3ca8cd46ca5",
   "metadata": {},
   "source": [
    "## We can see that our optimal clusters will be **3** ##\n",
    "* we will verify it also with silhouette score"
   ]
  },
  {
   "cell_type": "markdown",
   "id": "d42b0fce-5ebf-4362-9249-eba12f2d2b9a",
   "metadata": {},
   "source": [
    "### Silhouette Score"
   ]
  },
  {
   "cell_type": "code",
   "execution_count": 32,
   "id": "4b36026d-7317-453b-8ac2-80449d5f880c",
   "metadata": {},
   "outputs": [
    {
     "data": {
      "image/png": "[encoded data removed]",
      "text/plain": [
       "<Figure size 640x480 with 1 Axes>"
      ]
     },
     "metadata": {},
     "output_type": "display_data"
    }
   ],
   "source": [
    "# building our model again\n",
    "silhouette_scores = []\n",
    "for k in range_clusters:\n",
    "    kmeans = KMeans(n_clusters=k, random_state=42)\n",
    "    cluster_labels = kmeans.fit_predict(scaled_data)\n",
    "    silhouette_scores.append(silhouette_score(scaled_data, cluster_labels))\n",
    "\n",
    "# viewing our result in lineplot\n",
    "plt.figure()\n",
    "plt.plot(range_clusters, silhouette_scores, marker='o')\n",
    "plt.title('Silhouette Score for Optimal Clusters')\n",
    "plt.xlabel('Number of Clusters')\n",
    "plt.ylabel('Silhouette Score')\n",
    "plt.show()"
   ]
  },
  {
   "cell_type": "markdown",
   "id": "eafb6ba7-69e3-4875-9144-e62686be62a5",
   "metadata": {},
   "source": [
    "### After we saw elbow method and silhouette score we will choose k = 3"
   ]
  },
  {
   "cell_type": "markdown",
   "id": "b9643b63-7a15-40d9-81ee-dc0bdb6b56b4",
   "metadata": {},
   "source": [
    "## 5.1.2 Setting Our final K-Means"
   ]
  },
  {
   "cell_type": "code",
   "execution_count": 33,
   "id": "822e81a7-297d-4486-aa66-21727fa8e407",
   "metadata": {},
   "outputs": [],
   "source": [
    "# k =3\n",
    "optimal_clusters = 3\n",
    "kmeans = KMeans(n_clusters=optimal_clusters, random_state=42)\n",
    "unsupervised_data['Cluster'] = kmeans.fit_predict(scaled_data)"
   ]
  },
  {
   "cell_type": "code",
   "execution_count": 34,
   "id": "8859f394-f682-41e6-a5b5-5db7d19746c1",
   "metadata": {},
   "outputs": [
    {
     "name": "stdout",
     "output_type": "stream",
     "text": [
      "3195\n",
      "3550\n",
      "29\n",
      "We have:3 clusters\n"
     ]
    }
   ],
   "source": [
    "#veryfing the our clusters divided in a logical manner and not clustered with individual results\n",
    "total_clusters = max(unsupervised_data['Cluster'])+1\n",
    "for i in range(0,total_clusters):\n",
    "    if i > total_clusters:\n",
    "        break\n",
    "    else:\n",
    "        print(len(unsupervised_data[unsupervised_data['Cluster'] == i]))\n",
    "        i += 1\n",
    "print(f\"We have:{total_clusters} clusters\")"
   ]
  },
  {
   "cell_type": "markdown",
   "id": "09694ee2-e727-44a2-ba8a-4341440431b5",
   "metadata": {},
   "source": [
    "## 5.1.3 Visualzing the K-Means clusters"
   ]
  },
  {
   "cell_type": "code",
   "execution_count": 41,
   "id": "1477e27b-275b-4a74-a60e-858409f599b3",
   "metadata": {},
   "outputs": [
    {
     "data": {
      "image/png": "[encoded data removed]",
      "text/plain": [
       "<Figure size 600x400 with 2 Axes>"
      ]
     },
     "metadata": {},
     "output_type": "display_data"
    }
   ],
   "source": [
    "#scatter plot\n",
    "plt.figure(figsize=(6, 4))\n",
    "plt.scatter(\n",
    "    clustering_data['Donation Amount'], clustering_data['Donation Year'], \n",
    "    c=unsupervised_data['Cluster'], cmap='viridis', s=50, alpha=0.7\n",
    ")\n",
    "# plot titles\n",
    "plt.title('K-Means Cluster Distribution', fontsize=16)\n",
    "plt.xlabel('Donation Amount', fontsize=12)\n",
    "plt.ylabel('Donation Year', fontsize=12)\n",
    "plt.colorbar(label='Cluster')\n",
    "plt.grid(True)\n",
    "plt.show()"
   ]
  },
  {
   "cell_type": "markdown",
   "id": "bcd30bca-34e1-433b-8b0e-f81c078da25e",
   "metadata": {},
   "source": [
    "### K-MEANS Results: 3 Clusters and our sillhoutte score is 64%"
   ]
  },
  {
   "cell_type": "markdown",
   "id": "a4e0421f-83ac-4f8c-952a-74b4161e6ab1",
   "metadata": {},
   "source": [
    "# 5.2 DBSCAN"
   ]
  },
  {
   "cell_type": "code",
   "execution_count": 36,
   "id": "0f7a982f-7cad-49fb-925c-ef2de62e1d7a",
   "metadata": {},
   "outputs": [],
   "source": [
    "# selecting cluster features\n",
    "features = ['Donation Amount', 'Donation Year']\n",
    "clustering_data = unsupervised_data[features]\n",
    "\n",
    "# scaling our features\n",
    "scaler = StandardScaler()\n",
    "scaled_data = scaler.fit_transform(clustering_data)\n",
    "\n",
    "# creating our dbscan model\n",
    "dbscan = DBSCAN(eps=0.3, min_samples=100)\n",
    "unsupervised_data['Cluster_DBSCAN'] = dbscan.fit_predict(scaled_data)"
   ]
  },
  {
   "cell_type": "code",
   "execution_count": 37,
   "id": "15b1b54d-6aeb-4196-b395-5de7958caa20",
   "metadata": {},
   "outputs": [
    {
     "name": "stdout",
     "output_type": "stream",
     "text": [
      "Silhouette Score for DBSCAN: 0.930599807601205\n"
     ]
    }
   ],
   "source": [
    "#filtering our our noisy data with excluding the \"-1\"\n",
    "cluster_labels = unsupervised_data['Cluster_DBSCAN']\n",
    "unique_labels = cluster_labels[cluster_labels != -1].nunique()\n",
    "\n",
    "#checking that we have more then 1 cluster\n",
    "##GPT##\n",
    "if unique_labels > 1:\n",
    "    # silhoutte score for the DBSCAN\n",
    "    silhouette_dbscan = silhouette_score(\n",
    "        scaled_data[unsupervised_data['Cluster_DBSCAN'] != -1],\n",
    "        cluster_labels[cluster_labels != -1]\n",
    "    )\n",
    "    print(f\"Silhouette Score for DBSCAN: {silhouette_dbscan}\")\n",
    "else:\n",
    "    print(\"DBSCAN did not produce enough valid clusters. Adjust 'eps' or 'min_samples'.\")"
   ]
  },
  {
   "cell_type": "code",
   "execution_count": 38,
   "id": "88d9fc92-9d3b-407b-9384-98125c74c1c1",
   "metadata": {},
   "outputs": [
    {
     "name": "stdout",
     "output_type": "stream",
     "text": [
      "615\n",
      "637\n",
      "637\n",
      "699\n",
      "571\n",
      "568\n",
      "610\n",
      "514\n",
      "752\n",
      "249\n",
      "338\n",
      "349\n",
      "181\n",
      "We have:13 clusters\n"
     ]
    }
   ],
   "source": [
    "#Veryfing the our clusters divided in a logical manner and not clustered with individual results\n",
    "total_clusters = max(unsupervised_data['Cluster_DBSCAN'])+1\n",
    "for i in range(0,total_clusters):\n",
    "    if i > total_clusters:\n",
    "        break\n",
    "    else:\n",
    "        print(len(unsupervised_data[unsupervised_data['Cluster_DBSCAN'] == i]))\n",
    "        i += 1\n",
    "print(f\"We have:{total_clusters} clusters\")"
   ]
  },
  {
   "cell_type": "code",
   "execution_count": 39,
   "id": "1693b792-4387-414f-b2c9-c547b3f744a1",
   "metadata": {},
   "outputs": [
    {
     "data": {
      "image/png": "[encoded data removed]",
      "text/plain": [
       "<Figure size 600x400 with 2 Axes>"
      ]
     },
     "metadata": {},
     "output_type": "display_data"
    }
   ],
   "source": [
    "#visulizing our results \n",
    "plt.figure(figsize=(6,4))\n",
    "\n",
    "# scatter plot\n",
    "plt.scatter(\n",
    "    clustering_data['Donation Amount'], clustering_data['Donation Year'], \n",
    "    c=unsupervised_data['Cluster_DBSCAN'], cmap='viridis', s=50, alpha=0.7\n",
    ")\n",
    "\n",
    "# plot titles\n",
    "plt.title('DBSCAN Cluster Distribution', fontsize=16)\n",
    "plt.xlabel('Donation Amount', fontsize=12)\n",
    "plt.ylabel('Donation Year', fontsize=12)\n",
    "plt.colorbar(label='Cluster')\n",
    "plt.grid(True)\n",
    "plt.show()"
   ]
  },
  {
   "cell_type": "markdown",
   "id": "dc74c7ad-0d68-4e21-99c5-2c7edf96e5a3",
   "metadata": {},
   "source": [
    "### DBSCAN Results: 13 Clusters and our sillhoutte score is 92%"
   ]
  },
  {
   "cell_type": "code",
   "execution_count": null,
   "id": "17581f88-2328-4e06-8b73-95f5e43be810",
   "metadata": {},
   "outputs": [],
   "source": []
  }
 ],
 "metadata": {
  "kernelspec": {
   "display_name": "Python 3 (ipykernel)",
   "language": "python",
   "name": "python3"
  },
  "language_info": {
   "codemirror_mode": {
    "name": "ipython",
    "version": 3
   },
   "file_extension": ".py",
   "mimetype": "text/x-python",
   "name": "python",
   "nbconvert_exporter": "python",
   "pygments_lexer": "ipython3",
   "version": "3.12.2"
  }
 },
 "nbformat": 4,
 "nbformat_minor": 5
}
